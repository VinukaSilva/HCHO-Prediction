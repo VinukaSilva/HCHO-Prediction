{
 "cells": [
  {
   "cell_type": "code",
   "execution_count": 22,
   "metadata": {},
   "outputs": [],
   "source": [
    "import pandas as pd\n",
    "import matplotlib.pyplot as plt\n",
    "import numpy as np\n",
    "import itertools\n",
    "\n",
    "from statsmodels.tsa.arima.model import ARIMA\n",
    "from sklearn.metrics import mean_squared_error\n",
    "from statsmodels.tsa.stattools import adfuller\n",
    "\n",
    "import warnings\n",
    "warnings.filterwarnings('ignore')"
   ]
  },
  {
   "cell_type": "code",
   "execution_count": 23,
   "metadata": {},
   "outputs": [
    {
     "data": {
      "text/html": [
       "<div>\n",
       "<style scoped>\n",
       "    .dataframe tbody tr th:only-of-type {\n",
       "        vertical-align: middle;\n",
       "    }\n",
       "\n",
       "    .dataframe tbody tr th {\n",
       "        vertical-align: top;\n",
       "    }\n",
       "\n",
       "    .dataframe thead th {\n",
       "        text-align: right;\n",
       "    }\n",
       "</style>\n",
       "<table border=\"1\" class=\"dataframe\">\n",
       "  <thead>\n",
       "    <tr style=\"text-align: right;\">\n",
       "      <th></th>\n",
       "      <th>HCHO Reading</th>\n",
       "      <th>Location</th>\n",
       "      <th>Current Date</th>\n",
       "      <th>Next Date</th>\n",
       "    </tr>\n",
       "  </thead>\n",
       "  <tbody>\n",
       "    <tr>\n",
       "      <th>0</th>\n",
       "      <td>0.000197</td>\n",
       "      <td>Colombo Proper</td>\n",
       "      <td>2019-01-01</td>\n",
       "      <td>2019-01-02</td>\n",
       "    </tr>\n",
       "    <tr>\n",
       "      <th>1</th>\n",
       "      <td>0.000197</td>\n",
       "      <td>Deniyaya, Matara</td>\n",
       "      <td>2019-01-01</td>\n",
       "      <td>2019-01-02</td>\n",
       "    </tr>\n",
       "    <tr>\n",
       "      <th>2</th>\n",
       "      <td>0.000263</td>\n",
       "      <td>Nuwara Eliya Proper</td>\n",
       "      <td>2019-01-01</td>\n",
       "      <td>2019-01-02</td>\n",
       "    </tr>\n",
       "    <tr>\n",
       "      <th>3</th>\n",
       "      <td>0.000263</td>\n",
       "      <td>Colombo Proper</td>\n",
       "      <td>2019-01-02</td>\n",
       "      <td>2019-01-03</td>\n",
       "    </tr>\n",
       "    <tr>\n",
       "      <th>4</th>\n",
       "      <td>0.000006</td>\n",
       "      <td>Deniyaya, Matara</td>\n",
       "      <td>2019-01-02</td>\n",
       "      <td>2019-01-03</td>\n",
       "    </tr>\n",
       "  </tbody>\n",
       "</table>\n",
       "</div>"
      ],
      "text/plain": [
       "   HCHO Reading             Location Current Date   Next Date\n",
       "0      0.000197       Colombo Proper   2019-01-01  2019-01-02\n",
       "1      0.000197     Deniyaya, Matara   2019-01-01  2019-01-02\n",
       "2      0.000263  Nuwara Eliya Proper   2019-01-01  2019-01-02\n",
       "3      0.000263       Colombo Proper   2019-01-02  2019-01-03\n",
       "4      0.000006     Deniyaya, Matara   2019-01-02  2019-01-03"
      ]
     },
     "execution_count": 23,
     "metadata": {},
     "output_type": "execute_result"
    }
   ],
   "source": [
    "# Load the dataset\n",
    "hcho_data = pd.read_csv('preprocessed_dataset/hcho_data.csv')\n",
    "hcho_data.head()"
   ]
  },
  {
   "cell_type": "code",
   "execution_count": 24,
   "metadata": {},
   "outputs": [
    {
     "name": "stdout",
     "output_type": "stream",
     "text": [
      "ADF Statistic: -11.491048\n",
      "p-value: 0.000000\n",
      "Critical Values:\n",
      "\t1%: -3.431\n",
      "\t5%: -2.862\n",
      "\t10%: -2.567\n",
      "The series is likely stationary.\n"
     ]
    }
   ],
   "source": [
    "# Perform the Augmented Dickey-Fuller test\n",
    "adf_test = adfuller(hcho_data['HCHO Reading'])\n",
    "\n",
    "print('ADF Statistic: %f' % adf_test[0])\n",
    "print('p-value: %f' % adf_test[1])\n",
    "print('Critical Values:')\n",
    "for key, value in adf_test[4].items():\n",
    "    print('\\t%s: %.3f' % (key, value))\n",
    "\n",
    "# Based on the p-value, decide on stationarity\n",
    "if adf_test[1] > 0.05:\n",
    "    print(\"The series is likely non-stationary and may need differencing.\")\n",
    "else:\n",
    "    print(\"The series is likely stationary.\")"
   ]
  },
  {
   "cell_type": "code",
   "execution_count": 25,
   "metadata": {},
   "outputs": [
    {
     "data": {
      "text/html": [
       "<div>\n",
       "<style scoped>\n",
       "    .dataframe tbody tr th:only-of-type {\n",
       "        vertical-align: middle;\n",
       "    }\n",
       "\n",
       "    .dataframe tbody tr th {\n",
       "        vertical-align: top;\n",
       "    }\n",
       "\n",
       "    .dataframe thead th {\n",
       "        text-align: right;\n",
       "    }\n",
       "</style>\n",
       "<table border=\"1\" class=\"dataframe\">\n",
       "  <thead>\n",
       "    <tr style=\"text-align: right;\">\n",
       "      <th></th>\n",
       "      <th>HCHO Reading</th>\n",
       "      <th>Location</th>\n",
       "      <th>Next Date</th>\n",
       "    </tr>\n",
       "    <tr>\n",
       "      <th>Current Date</th>\n",
       "      <th></th>\n",
       "      <th></th>\n",
       "      <th></th>\n",
       "    </tr>\n",
       "  </thead>\n",
       "  <tbody>\n",
       "    <tr>\n",
       "      <th>2019-01-01</th>\n",
       "      <td>0.000197</td>\n",
       "      <td>Colombo Proper</td>\n",
       "      <td>2019-01-02</td>\n",
       "    </tr>\n",
       "    <tr>\n",
       "      <th>2019-01-01</th>\n",
       "      <td>0.000197</td>\n",
       "      <td>Deniyaya, Matara</td>\n",
       "      <td>2019-01-02</td>\n",
       "    </tr>\n",
       "    <tr>\n",
       "      <th>2019-01-01</th>\n",
       "      <td>0.000263</td>\n",
       "      <td>Nuwara Eliya Proper</td>\n",
       "      <td>2019-01-02</td>\n",
       "    </tr>\n",
       "    <tr>\n",
       "      <th>2019-01-02</th>\n",
       "      <td>0.000263</td>\n",
       "      <td>Colombo Proper</td>\n",
       "      <td>2019-01-03</td>\n",
       "    </tr>\n",
       "    <tr>\n",
       "      <th>2019-01-02</th>\n",
       "      <td>0.000006</td>\n",
       "      <td>Deniyaya, Matara</td>\n",
       "      <td>2019-01-03</td>\n",
       "    </tr>\n",
       "  </tbody>\n",
       "</table>\n",
       "</div>"
      ],
      "text/plain": [
       "              HCHO Reading             Location   Next Date\n",
       "Current Date                                               \n",
       "2019-01-01        0.000197       Colombo Proper  2019-01-02\n",
       "2019-01-01        0.000197     Deniyaya, Matara  2019-01-02\n",
       "2019-01-01        0.000263  Nuwara Eliya Proper  2019-01-02\n",
       "2019-01-02        0.000263       Colombo Proper  2019-01-03\n",
       "2019-01-02        0.000006     Deniyaya, Matara  2019-01-03"
      ]
     },
     "execution_count": 25,
     "metadata": {},
     "output_type": "execute_result"
    }
   ],
   "source": [
    "# Convert 'Current Date' to datetime and set as index\n",
    "hcho_data['Current Date'] = pd.to_datetime(hcho_data['Current Date'])\n",
    "hcho_data.set_index('Current Date', inplace=True)\n",
    "\n",
    "# Output the first few rows and the index to verify changes\n",
    "hcho_data_after = hcho_data.head()\n",
    "hcho_data_info = hcho_data.index\n",
    "\n",
    "hcho_data_after"
   ]
  },
  {
   "cell_type": "code",
   "execution_count": 26,
   "metadata": {},
   "outputs": [
    {
     "data": {
      "text/html": [
       "<div>\n",
       "<style scoped>\n",
       "    .dataframe tbody tr th:only-of-type {\n",
       "        vertical-align: middle;\n",
       "    }\n",
       "\n",
       "    .dataframe tbody tr th {\n",
       "        vertical-align: top;\n",
       "    }\n",
       "\n",
       "    .dataframe thead th {\n",
       "        text-align: right;\n",
       "    }\n",
       "</style>\n",
       "<table border=\"1\" class=\"dataframe\">\n",
       "  <thead>\n",
       "    <tr style=\"text-align: right;\">\n",
       "      <th></th>\n",
       "      <th>HCHO Reading</th>\n",
       "      <th>Location</th>\n",
       "      <th>Next Date</th>\n",
       "    </tr>\n",
       "    <tr>\n",
       "      <th>Current Date</th>\n",
       "      <th></th>\n",
       "      <th></th>\n",
       "      <th></th>\n",
       "    </tr>\n",
       "  </thead>\n",
       "  <tbody>\n",
       "    <tr>\n",
       "      <th>2023-12-29</th>\n",
       "      <td>0.000051</td>\n",
       "      <td>Bibile, Monaragala</td>\n",
       "      <td>2023-12-30</td>\n",
       "    </tr>\n",
       "    <tr>\n",
       "      <th>2023-12-29</th>\n",
       "      <td>0.000127</td>\n",
       "      <td>Kurunegala Proper</td>\n",
       "      <td>2023-12-30</td>\n",
       "    </tr>\n",
       "    <tr>\n",
       "      <th>2023-12-29</th>\n",
       "      <td>0.000127</td>\n",
       "      <td>Jaffna Proper</td>\n",
       "      <td>2023-12-30</td>\n",
       "    </tr>\n",
       "    <tr>\n",
       "      <th>2023-12-30</th>\n",
       "      <td>0.000127</td>\n",
       "      <td>Bibile, Monaragala</td>\n",
       "      <td>2023-12-31</td>\n",
       "    </tr>\n",
       "    <tr>\n",
       "      <th>2023-12-30</th>\n",
       "      <td>0.000158</td>\n",
       "      <td>Kurunegala Proper</td>\n",
       "      <td>2023-12-31</td>\n",
       "    </tr>\n",
       "    <tr>\n",
       "      <th>2023-12-30</th>\n",
       "      <td>0.000117</td>\n",
       "      <td>Jaffna Proper</td>\n",
       "      <td>2023-12-31</td>\n",
       "    </tr>\n",
       "    <tr>\n",
       "      <th>2023-12-31</th>\n",
       "      <td>0.000117</td>\n",
       "      <td>Bibile, Monaragala</td>\n",
       "      <td>2024-01-01</td>\n",
       "    </tr>\n",
       "    <tr>\n",
       "      <th>2023-12-31</th>\n",
       "      <td>0.000065</td>\n",
       "      <td>Kurunegala Proper</td>\n",
       "      <td>2024-01-01</td>\n",
       "    </tr>\n",
       "    <tr>\n",
       "      <th>2023-12-31</th>\n",
       "      <td>0.000065</td>\n",
       "      <td>Jaffna Proper</td>\n",
       "      <td>2024-01-01</td>\n",
       "    </tr>\n",
       "    <tr>\n",
       "      <th>2023-01-24</th>\n",
       "      <td>0.000129</td>\n",
       "      <td>Bibile, Monaragala</td>\n",
       "      <td>2023-01-25</td>\n",
       "    </tr>\n",
       "  </tbody>\n",
       "</table>\n",
       "</div>"
      ],
      "text/plain": [
       "              HCHO Reading            Location   Next Date\n",
       "Current Date                                              \n",
       "2023-12-29        0.000051  Bibile, Monaragala  2023-12-30\n",
       "2023-12-29        0.000127   Kurunegala Proper  2023-12-30\n",
       "2023-12-29        0.000127       Jaffna Proper  2023-12-30\n",
       "2023-12-30        0.000127  Bibile, Monaragala  2023-12-31\n",
       "2023-12-30        0.000158   Kurunegala Proper  2023-12-31\n",
       "2023-12-30        0.000117       Jaffna Proper  2023-12-31\n",
       "2023-12-31        0.000117  Bibile, Monaragala  2024-01-01\n",
       "2023-12-31        0.000065   Kurunegala Proper  2024-01-01\n",
       "2023-12-31        0.000065       Jaffna Proper  2024-01-01\n",
       "2023-01-24        0.000129  Bibile, Monaragala  2023-01-25"
      ]
     },
     "execution_count": 26,
     "metadata": {},
     "output_type": "execute_result"
    }
   ],
   "source": [
    "hcho_data.tail(10)"
   ]
  },
  {
   "cell_type": "code",
   "execution_count": 27,
   "metadata": {},
   "outputs": [
    {
     "data": {
      "text/plain": [
       "DatetimeIndex(['2019-01-01', '2019-01-01', '2019-01-01', '2019-01-02',\n",
       "               '2019-01-02', '2019-01-02', '2019-01-03', '2019-01-03',\n",
       "               '2019-01-03', '2019-01-04',\n",
       "               ...\n",
       "               '2023-12-29', '2023-12-29', '2023-12-29', '2023-12-30',\n",
       "               '2023-12-30', '2023-12-30', '2023-12-31', '2023-12-31',\n",
       "               '2023-12-31', '2023-01-24'],\n",
       "              dtype='datetime64[ns]', name='Current Date', length=12782, freq=None)"
      ]
     },
     "execution_count": 27,
     "metadata": {},
     "output_type": "execute_result"
    }
   ],
   "source": [
    "hcho_data_info"
   ]
  },
  {
   "cell_type": "code",
   "execution_count": 28,
   "metadata": {},
   "outputs": [
    {
     "name": "stdout",
     "output_type": "stream",
     "text": [
      "ADF Statistic: -4.636878169720643\n",
      "p-value: 0.00011039390127992954\n"
     ]
    }
   ],
   "source": [
    "# Running ADF test on the 'HCHO Reading' of one of the locations\n",
    "result = adfuller(hcho_data[hcho_data['Location'] == 'Colombo Proper']['HCHO Reading'])\n",
    "print(f'ADF Statistic: {result[0]}')\n",
    "print(f'p-value: {result[1]}')"
   ]
  },
  {
   "cell_type": "code",
   "execution_count": 29,
   "metadata": {},
   "outputs": [
    {
     "data": {
      "text/plain": [
       "Current Date\n",
       "2019-01-01    0.000197\n",
       "2019-01-02    0.000263\n",
       "2019-01-03    0.000099\n",
       "2019-01-04    0.000210\n",
       "2019-01-05    0.000179\n",
       "                ...   \n",
       "2023-12-28    0.000228\n",
       "2023-12-29    0.000140\n",
       "2023-12-30    0.000140\n",
       "2023-12-31    0.000080\n",
       "2022-03-07    0.000254\n",
       "Name: HCHO Reading, Length: 1826, dtype: float64"
      ]
     },
     "execution_count": 29,
     "metadata": {},
     "output_type": "execute_result"
    }
   ],
   "source": [
    "# Selecting the data for the model\n",
    "colombo_data = hcho_data[hcho_data['Location'] == 'Colombo Proper']['HCHO Reading']\n",
    "colombo_data"
   ]
  },
  {
   "cell_type": "code",
   "execution_count": 30,
   "metadata": {},
   "outputs": [
    {
     "data": {
      "text/html": [
       "<table class=\"simpletable\">\n",
       "<caption>SARIMAX Results</caption>\n",
       "<tr>\n",
       "  <th>Dep. Variable:</th>     <td>HCHO Reading</td>   <th>  No. Observations:  </th>    <td>1826</td>   \n",
       "</tr>\n",
       "<tr>\n",
       "  <th>Model:</th>            <td>ARIMA(1, 0, 1)</td>  <th>  Log Likelihood     </th>  <td>14384.871</td>\n",
       "</tr>\n",
       "<tr>\n",
       "  <th>Date:</th>            <td>Wed, 17 Apr 2024</td> <th>  AIC                </th> <td>-28761.742</td>\n",
       "</tr>\n",
       "<tr>\n",
       "  <th>Time:</th>                <td>00:13:37</td>     <th>  BIC                </th> <td>-28739.703</td>\n",
       "</tr>\n",
       "<tr>\n",
       "  <th>Sample:</th>                  <td>0</td>        <th>  HQIC               </th> <td>-28753.612</td>\n",
       "</tr>\n",
       "<tr>\n",
       "  <th></th>                      <td> - 1826</td>     <th>                     </th>      <td> </td>    \n",
       "</tr>\n",
       "<tr>\n",
       "  <th>Covariance Type:</th>        <td>opg</td>       <th>                     </th>      <td> </td>    \n",
       "</tr>\n",
       "</table>\n",
       "<table class=\"simpletable\">\n",
       "<tr>\n",
       "     <td></td>       <th>coef</th>     <th>std err</th>      <th>z</th>      <th>P>|z|</th>  <th>[0.025</th>    <th>0.975]</th>  \n",
       "</tr>\n",
       "<tr>\n",
       "  <th>const</th>  <td>    0.0001</td> <td> 6.61e-06</td> <td>   21.619</td> <td> 0.000</td> <td>    0.000</td> <td>    0.000</td>\n",
       "</tr>\n",
       "<tr>\n",
       "  <th>ar.L1</th>  <td>    0.8675</td> <td> 2.56e-10</td> <td> 3.39e+09</td> <td> 0.000</td> <td>    0.868</td> <td>    0.868</td>\n",
       "</tr>\n",
       "<tr>\n",
       "  <th>ma.L1</th>  <td>   -0.5930</td> <td> 1.06e-10</td> <td>-5.61e+09</td> <td> 0.000</td> <td>   -0.593</td> <td>   -0.593</td>\n",
       "</tr>\n",
       "<tr>\n",
       "  <th>sigma2</th> <td> 8.411e-09</td> <td> 2.23e-10</td> <td>   37.637</td> <td> 0.000</td> <td> 7.97e-09</td> <td> 8.85e-09</td>\n",
       "</tr>\n",
       "</table>\n",
       "<table class=\"simpletable\">\n",
       "<tr>\n",
       "  <th>Ljung-Box (L1) (Q):</th>     <td>1.04</td> <th>  Jarque-Bera (JB):  </th> <td>143.73</td>\n",
       "</tr>\n",
       "<tr>\n",
       "  <th>Prob(Q):</th>                <td>0.31</td> <th>  Prob(JB):          </th>  <td>0.00</td> \n",
       "</tr>\n",
       "<tr>\n",
       "  <th>Heteroskedasticity (H):</th> <td>0.89</td> <th>  Skew:              </th>  <td>0.17</td> \n",
       "</tr>\n",
       "<tr>\n",
       "  <th>Prob(H) (two-sided):</th>    <td>0.15</td> <th>  Kurtosis:          </th>  <td>4.33</td> \n",
       "</tr>\n",
       "</table><br/><br/>Warnings:<br/>[1] Covariance matrix calculated using the outer product of gradients (complex-step).<br/>[2] Covariance matrix is singular or near-singular, with condition number 2.54e+26. Standard errors may be unstable."
      ],
      "text/latex": [
       "\\begin{center}\n",
       "\\begin{tabular}{lclc}\n",
       "\\toprule\n",
       "\\textbf{Dep. Variable:}          &   HCHO Reading   & \\textbf{  No. Observations:  } &    1826     \\\\\n",
       "\\textbf{Model:}                  &  ARIMA(1, 0, 1)  & \\textbf{  Log Likelihood     } & 14384.871   \\\\\n",
       "\\textbf{Date:}                   & Wed, 17 Apr 2024 & \\textbf{  AIC                } & -28761.742  \\\\\n",
       "\\textbf{Time:}                   &     00:13:37     & \\textbf{  BIC                } & -28739.703  \\\\\n",
       "\\textbf{Sample:}                 &        0         & \\textbf{  HQIC               } & -28753.612  \\\\\n",
       "\\textbf{}                        &      - 1826      & \\textbf{                     } &             \\\\\n",
       "\\textbf{Covariance Type:}        &       opg        & \\textbf{                     } &             \\\\\n",
       "\\bottomrule\n",
       "\\end{tabular}\n",
       "\\begin{tabular}{lcccccc}\n",
       "                & \\textbf{coef} & \\textbf{std err} & \\textbf{z} & \\textbf{P$> |$z$|$} & \\textbf{[0.025} & \\textbf{0.975]}  \\\\\n",
       "\\midrule\n",
       "\\textbf{const}  &       0.0001  &     6.61e-06     &    21.619  &         0.000        &        0.000    &        0.000     \\\\\n",
       "\\textbf{ar.L1}  &       0.8675  &     2.56e-10     &  3.39e+09  &         0.000        &        0.868    &        0.868     \\\\\n",
       "\\textbf{ma.L1}  &      -0.5930  &     1.06e-10     & -5.61e+09  &         0.000        &       -0.593    &       -0.593     \\\\\n",
       "\\textbf{sigma2} &    8.411e-09  &     2.23e-10     &    37.637  &         0.000        &     7.97e-09    &     8.85e-09     \\\\\n",
       "\\bottomrule\n",
       "\\end{tabular}\n",
       "\\begin{tabular}{lclc}\n",
       "\\textbf{Ljung-Box (L1) (Q):}     & 1.04 & \\textbf{  Jarque-Bera (JB):  } & 143.73  \\\\\n",
       "\\textbf{Prob(Q):}                & 0.31 & \\textbf{  Prob(JB):          } &  0.00   \\\\\n",
       "\\textbf{Heteroskedasticity (H):} & 0.89 & \\textbf{  Skew:              } &  0.17   \\\\\n",
       "\\textbf{Prob(H) (two-sided):}    & 0.15 & \\textbf{  Kurtosis:          } &  4.33   \\\\\n",
       "\\bottomrule\n",
       "\\end{tabular}\n",
       "%\\caption{SARIMAX Results}\n",
       "\\end{center}\n",
       "\n",
       "Warnings: \\newline\n",
       " [1] Covariance matrix calculated using the outer product of gradients (complex-step). \\newline\n",
       " [2] Covariance matrix is singular or near-singular, with condition number 2.54e+26. Standard errors may be unstable."
      ],
      "text/plain": [
       "<class 'statsmodels.iolib.summary.Summary'>\n",
       "\"\"\"\n",
       "                               SARIMAX Results                                \n",
       "==============================================================================\n",
       "Dep. Variable:           HCHO Reading   No. Observations:                 1826\n",
       "Model:                 ARIMA(1, 0, 1)   Log Likelihood               14384.871\n",
       "Date:                Wed, 17 Apr 2024   AIC                         -28761.742\n",
       "Time:                        00:13:37   BIC                         -28739.703\n",
       "Sample:                             0   HQIC                        -28753.612\n",
       "                               - 1826                                         \n",
       "Covariance Type:                  opg                                         \n",
       "==============================================================================\n",
       "                 coef    std err          z      P>|z|      [0.025      0.975]\n",
       "------------------------------------------------------------------------------\n",
       "const          0.0001   6.61e-06     21.619      0.000       0.000       0.000\n",
       "ar.L1          0.8675   2.56e-10   3.39e+09      0.000       0.868       0.868\n",
       "ma.L1         -0.5930   1.06e-10  -5.61e+09      0.000      -0.593      -0.593\n",
       "sigma2      8.411e-09   2.23e-10     37.637      0.000    7.97e-09    8.85e-09\n",
       "===================================================================================\n",
       "Ljung-Box (L1) (Q):                   1.04   Jarque-Bera (JB):               143.73\n",
       "Prob(Q):                              0.31   Prob(JB):                         0.00\n",
       "Heteroskedasticity (H):               0.89   Skew:                             0.17\n",
       "Prob(H) (two-sided):                  0.15   Kurtosis:                         4.33\n",
       "===================================================================================\n",
       "\n",
       "Warnings:\n",
       "[1] Covariance matrix calculated using the outer product of gradients (complex-step).\n",
       "[2] Covariance matrix is singular or near-singular, with condition number 2.54e+26. Standard errors may be unstable.\n",
       "\"\"\""
      ]
     },
     "execution_count": 30,
     "metadata": {},
     "output_type": "execute_result"
    }
   ],
   "source": [
    "# Fit the ARIMA model\n",
    "arima_model = ARIMA(colombo_data, order=(1, 0, 1))\n",
    "arima_result = arima_model.fit()\n",
    "\n",
    "# Print out the summary of the model\n",
    "model_summary = arima_result.summary()\n",
    "\n",
    "# Display the model summary\n",
    "model_summary"
   ]
  },
  {
   "cell_type": "code",
   "execution_count": 31,
   "metadata": {},
   "outputs": [
    {
     "data": {
      "text/plain": [
       "2024-01-01    0.000166\n",
       "2024-01-02    0.000163\n",
       "2024-01-03    0.000161\n",
       "2024-01-04    0.000158\n",
       "2024-01-05    0.000156\n",
       "2024-01-06    0.000154\n",
       "2024-01-07    0.000153\n",
       "2024-01-08    0.000152\n",
       "2024-01-09    0.000150\n",
       "2024-01-10    0.000149\n",
       "2024-01-11    0.000149\n",
       "2024-01-12    0.000148\n",
       "2024-01-13    0.000147\n",
       "2024-01-14    0.000147\n",
       "2024-01-15    0.000146\n",
       "2024-01-16    0.000146\n",
       "2024-01-17    0.000145\n",
       "2024-01-18    0.000145\n",
       "2024-01-19    0.000145\n",
       "2024-01-20    0.000145\n",
       "2024-01-21    0.000144\n",
       "2024-01-22    0.000144\n",
       "2024-01-23    0.000144\n",
       "2024-01-24    0.000144\n",
       "2024-01-25    0.000144\n",
       "2024-01-26    0.000144\n",
       "2024-01-27    0.000144\n",
       "2024-01-28    0.000143\n",
       "2024-01-29    0.000143\n",
       "2024-01-30    0.000143\n",
       "Freq: D, Name: predicted_mean, dtype: float64"
      ]
     },
     "execution_count": 31,
     "metadata": {},
     "output_type": "execute_result"
    }
   ],
   "source": [
    "# Assuming colombo_data has a DateTime index\n",
    "last_index = colombo_data.index[-2]\n",
    "new_index = pd.date_range(start=last_index, periods=31, freq='D')[1:]  # 'M' for monthly, adjust as needed\n",
    "\n",
    "# Forecast with the new index\n",
    "forecast = arima_result.forecast(steps=30, index=new_index)\n",
    "\n",
    "# Display the forecast\n",
    "forecast"
   ]
  },
  {
   "cell_type": "code",
   "execution_count": 44,
   "metadata": {},
   "outputs": [
    {
     "data": {
      "image/png": "[encoded data removed]",
      "text/plain": [
       "<Figure size 1000x500 with 1 Axes>"
      ]
     },
     "metadata": {},
     "output_type": "display_data"
    }
   ],
   "source": [
    "colombo_data = pd.DataFrame({'HCHO Reading': [0.000228, 0.000140, 0.000180, 0.000178, 0.000165]},\n",
    "                      index=pd.date_range('2023-12-28', periods=5, freq='D'))\n",
    "\n",
    "# Plotting\n",
    "plt.figure(figsize=(10, 5))\n",
    "colombo_data['HCHO Reading'].plot(label='Actual')\n",
    "forecast.plot(color='red', label='Forecast')\n",
    "plt.title('Historical Data and Forecast')\n",
    "plt.xlabel('Date')\n",
    "plt.ylabel('HCHO Reading')\n",
    "plt.legend()\n",
    "plt.grid(True)\n",
    "plt.show()"
   ]
  }
 ],
 "metadata": {
  "kernelspec": {
   "display_name": "Python 3",
   "language": "python",
   "name": "python3"
  },
  "language_info": {
   "codemirror_mode": {
    "name": "ipython",
    "version": 3
   },
   "file_extension": ".py",
   "mimetype": "text/x-python",
   "name": "python",
   "nbconvert_exporter": "python",
   "pygments_lexer": "ipython3",
   "version": "3.10.0"
  }
 },
 "nbformat": 4,
 "nbformat_minor": 2
}
