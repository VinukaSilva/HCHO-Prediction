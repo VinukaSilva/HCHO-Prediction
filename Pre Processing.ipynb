{
 "cells": [
  {
   "cell_type": "code",
   "execution_count": 1,
   "metadata": {},
   "outputs": [],
   "source": [
    "import pyspark\n",
    "import pyspark.sql  as pyspark_sql\n",
    "import pyspark.sql.types as pyspark_types\n",
    "import pyspark.sql.functions  as pyspark_functions\n",
    "from pyspark import SparkContext, SparkConf\n",
    "from pyspark.sql.functions import col, sum as sum_\n",
    "from pyspark.sql.window import Window\n",
    "from pyspark.sql.functions import coalesce, col, lag, lead, count\n",
    "from pyspark.sql.functions import mean\n",
    "\n",
    "import pandas as pd\n",
    "import matplotlib.pyplot as plt\n",
    "import seaborn as sns"
   ]
  },
  {
   "cell_type": "code",
   "execution_count": 2,
   "metadata": {},
   "outputs": [],
   "source": [
    "# create the session\n",
    "conf = SparkConf().set(\"spark.ui.port\", \"4050\")\n",
    "\n",
    "# create the context\n",
    "sc = pyspark.SparkContext(conf=conf)\n",
    "spark = pyspark_sql.SparkSession.builder.getOrCreate()"
   ]
  },
  {
   "cell_type": "markdown",
   "metadata": {},
   "source": [
    "### COLOMBO - DENIYAYA/MATARA - NUWARA ELIYA DATASET"
   ]
  },
  {
   "cell_type": "code",
   "execution_count": 3,
   "metadata": {},
   "outputs": [],
   "source": [
    "# Load the dataset\n",
    "cmn_data = spark.read.csv(\"dataset/col_mat_nuw_output.csv\", header=None, inferSchema=True)"
   ]
  },
  {
   "cell_type": "code",
   "execution_count": 4,
   "metadata": {},
   "outputs": [
    {
     "name": "stdout",
     "output_type": "stream",
     "text": [
      "root\n",
      " |-- _c0: double (nullable = true)\n",
      " |-- _c1: string (nullable = true)\n",
      " |-- _c2: date (nullable = true)\n",
      " |-- _c3: date (nullable = true)\n",
      "\n"
     ]
    }
   ],
   "source": [
    "cmn_data.printSchema()"
   ]
  },
  {
   "cell_type": "code",
   "execution_count": 5,
   "metadata": {},
   "outputs": [
    {
     "name": "stdout",
     "output_type": "stream",
     "text": [
      "+--------------------+--------------+----------+----------+\n",
      "|                 _c0|           _c1|       _c2|       _c3|\n",
      "+--------------------+--------------+----------+----------+\n",
      "|1.969834395781014...|Colombo Proper|2019-01-01|2019-01-02|\n",
      "|2.625522171968594...|Colombo Proper|2019-01-02|2019-01-03|\n",
      "|9.852118897938794E-5|Colombo Proper|2019-01-03|2019-01-04|\n",
      "|2.099320518114242E-4|Colombo Proper|2019-01-04|2019-01-05|\n",
      "|1.785337298892930...|Colombo Proper|2019-01-05|2019-01-06|\n",
      "|1.082296700235670...|Colombo Proper|2019-01-06|2019-01-07|\n",
      "|3.926829280477309...|Colombo Proper|2019-01-07|2019-01-08|\n",
      "|9.153156350685351E-5|Colombo Proper|2019-01-08|2019-01-09|\n",
      "|1.205978992853015...|Colombo Proper|2019-01-09|2019-01-10|\n",
      "|1.297723562983258...|Colombo Proper|2019-01-10|2019-01-11|\n",
      "|2.239188166801278...|Colombo Proper|2019-01-11|2019-01-12|\n",
      "|1.569418094178759...|Colombo Proper|2019-01-12|2019-01-13|\n",
      "|                NULL|Colombo Proper|2019-01-13|2019-01-14|\n",
      "|1.336291906862603...|Colombo Proper|2019-01-14|2019-01-15|\n",
      "|6.374417842690063E-5|Colombo Proper|2019-01-15|2019-01-16|\n",
      "|1.181062250815020...|Colombo Proper|2019-01-16|2019-01-17|\n",
      "|2.472555222423037...|Colombo Proper|2019-01-17|2019-01-18|\n",
      "|3.667525352047757E-5|Colombo Proper|2019-01-18|2019-01-19|\n",
      "|4.057500868150313E-4|Colombo Proper|2019-01-19|2019-01-20|\n",
      "|1.687856216479722...|Colombo Proper|2019-01-20|2019-01-21|\n",
      "+--------------------+--------------+----------+----------+\n",
      "only showing top 20 rows\n",
      "\n"
     ]
    }
   ],
   "source": [
    "cmn_data.show()"
   ]
  },
  {
   "cell_type": "code",
   "execution_count": 6,
   "metadata": {},
   "outputs": [
    {
     "name": "stdout",
     "output_type": "stream",
     "text": [
      "+--------------------+--------------+------------+----------+\n",
      "|        HCHO Reading|      Location|Current Date| Next Date|\n",
      "+--------------------+--------------+------------+----------+\n",
      "|1.969834395781014...|Colombo Proper|  2019-01-01|2019-01-02|\n",
      "|2.625522171968594...|Colombo Proper|  2019-01-02|2019-01-03|\n",
      "|9.852118897938794E-5|Colombo Proper|  2019-01-03|2019-01-04|\n",
      "|2.099320518114242E-4|Colombo Proper|  2019-01-04|2019-01-05|\n",
      "|1.785337298892930...|Colombo Proper|  2019-01-05|2019-01-06|\n",
      "|1.082296700235670...|Colombo Proper|  2019-01-06|2019-01-07|\n",
      "|3.926829280477309...|Colombo Proper|  2019-01-07|2019-01-08|\n",
      "|9.153156350685351E-5|Colombo Proper|  2019-01-08|2019-01-09|\n",
      "|1.205978992853015...|Colombo Proper|  2019-01-09|2019-01-10|\n",
      "|1.297723562983258...|Colombo Proper|  2019-01-10|2019-01-11|\n",
      "|2.239188166801278...|Colombo Proper|  2019-01-11|2019-01-12|\n",
      "|1.569418094178759...|Colombo Proper|  2019-01-12|2019-01-13|\n",
      "|                NULL|Colombo Proper|  2019-01-13|2019-01-14|\n",
      "|1.336291906862603...|Colombo Proper|  2019-01-14|2019-01-15|\n",
      "|6.374417842690063E-5|Colombo Proper|  2019-01-15|2019-01-16|\n",
      "|1.181062250815020...|Colombo Proper|  2019-01-16|2019-01-17|\n",
      "|2.472555222423037...|Colombo Proper|  2019-01-17|2019-01-18|\n",
      "|3.667525352047757E-5|Colombo Proper|  2019-01-18|2019-01-19|\n",
      "|4.057500868150313E-4|Colombo Proper|  2019-01-19|2019-01-20|\n",
      "|1.687856216479722...|Colombo Proper|  2019-01-20|2019-01-21|\n",
      "+--------------------+--------------+------------+----------+\n",
      "only showing top 20 rows\n",
      "\n"
     ]
    }
   ],
   "source": [
    "# Define the new column names\n",
    "column_names = ['HCHO Reading', 'Location', 'Current Date', 'Next Date']\n",
    "\n",
    "# Rename the columns\n",
    "for i, new_name in enumerate(column_names):\n",
    "    cmn_data = cmn_data.withColumnRenamed(cmn_data.columns[i], new_name)\n",
    "\n",
    "cmn_data.show()"
   ]
  },
  {
   "cell_type": "code",
   "execution_count": 7,
   "metadata": {},
   "outputs": [
    {
     "name": "stdout",
     "output_type": "stream",
     "text": [
      "+-------+--------------------+\n",
      "|summary|        HCHO Reading|\n",
      "+-------+--------------------+\n",
      "|  count|                3059|\n",
      "|   mean|1.200429799620477...|\n",
      "| stddev|1.009218095609297E-4|\n",
      "|    min|-2.59296176552668...|\n",
      "|    max|8.997101837438971E-4|\n",
      "+-------+--------------------+\n",
      "\n"
     ]
    }
   ],
   "source": [
    "# Data description of HCHO Reading column\n",
    "cmn_data.describe('HCHO Reading').show()"
   ]
  },
  {
   "cell_type": "code",
   "execution_count": 8,
   "metadata": {},
   "outputs": [
    {
     "name": "stdout",
     "output_type": "stream",
     "text": [
      "Number of unique values in the 'Location' column: 3\n",
      "+-------------------+\n",
      "|           Location|\n",
      "+-------------------+\n",
      "|   Deniyaya, Matara|\n",
      "|     Colombo Proper|\n",
      "|Nuwara Eliya Proper|\n",
      "+-------------------+\n",
      "\n"
     ]
    }
   ],
   "source": [
    "unique_locations_count = cmn_data.select(\"Location\").distinct().count()\n",
    "print(f\"Number of unique values in the 'Location' column: {unique_locations_count}\")\n",
    "cmn_data.select(\"Location\").distinct().show()"
   ]
  },
  {
   "cell_type": "code",
   "execution_count": 9,
   "metadata": {},
   "outputs": [
    {
     "name": "stdout",
     "output_type": "stream",
     "text": [
      "+------------+--------+------------+---------+\n",
      "|HCHO Reading|Location|Current Date|Next Date|\n",
      "+------------+--------+------------+---------+\n",
      "|        2419|       0|           0|        0|\n",
      "+------------+--------+------------+---------+\n",
      "\n"
     ]
    }
   ],
   "source": [
    "# Checking the sum of the Null values\n",
    "cmn_data.select(*[sum_(col(c).isNull().cast(\"int\")).alias(c) for c in cmn_data.columns]).show()\n"
   ]
  },
  {
   "cell_type": "code",
   "execution_count": 10,
   "metadata": {},
   "outputs": [],
   "source": [
    "# # Define the window specification for backward fill\n",
    "# backward_windowSpec = Window.orderBy(\"Current Date\")\n",
    "\n",
    "# # Use lag to get the previous value in 'HCHO Reading'\n",
    "# previous_value = lag(\"HCHO Reading\", 1, None).over(backward_windowSpec)\n",
    "\n",
    "# # Replace nulls in 'HCHO Reading' with the previous non-null value\n",
    "# # We're using coalesce to keep the current value if it's not null or replace it with the previous value if it is null\n",
    "# cmn_data = cmn_data.withColumn(\"HCHO Reading\", coalesce(\"HCHO Reading\", previous_value))"
   ]
  },
  {
   "cell_type": "code",
   "execution_count": 11,
   "metadata": {},
   "outputs": [],
   "source": [
    "# # Define the window specification with the correct ordering column\n",
    "# windowSpec = Window.orderBy(\"Current Date\")  # Adjust if there's a more appropriate column\n",
    "\n",
    "# # Use lead to get the next value in 'HCHO Reading'\n",
    "# next_value = lead(\"HCHO Reading\", 1, None).over(windowSpec)\n",
    "\n",
    "# # Replace nulls in 'HCHO Reading' with the next non-null value\n",
    "# cmn_data = cmn_data.withColumn(\"HCHO Reading\", coalesce(\"HCHO Reading\", next_value))\n"
   ]
  },
  {
   "cell_type": "code",
   "execution_count": 12,
   "metadata": {},
   "outputs": [],
   "source": [
    "# Initialize a counter for null values\n",
    "null_count = cmn_data.filter(col(\"HCHO Reading\").isNull()).count()\n",
    "\n",
    "# Continue the process until there are no nulls left\n",
    "while null_count > 0:\n",
    "    # Define the window specifications\n",
    "    backward_windowSpec = Window.orderBy(\"Current Date\")\n",
    "    forward_windowSpec = Window.orderBy(\"Current Date\")\n",
    "    \n",
    "    # Use lag to carry the last observation forward\n",
    "    previous_value = lag(\"HCHO Reading\", 1).over(backward_windowSpec)\n",
    "    cmn_data = cmn_data.withColumn(\"HCHO Reading\", coalesce(\"HCHO Reading\", previous_value))\n",
    "    \n",
    "    # Use lead to carry the next observation backward\n",
    "    next_value = lead(\"HCHO Reading\", 1).over(forward_windowSpec)\n",
    "    cmn_data = cmn_data.withColumn(\"HCHO Reading\", coalesce(\"HCHO Reading\", next_value))\n",
    "    \n",
    "    # Update the null count\n",
    "    null_count = cmn_data.filter(col(\"HCHO Reading\").isNull()).count()"
   ]
  },
  {
   "cell_type": "code",
   "execution_count": 13,
   "metadata": {},
   "outputs": [
    {
     "name": "stdout",
     "output_type": "stream",
     "text": [
      "+------------+--------+------------+---------+\n",
      "|HCHO Reading|Location|Current Date|Next Date|\n",
      "+------------+--------+------------+---------+\n",
      "|           0|       0|           0|        0|\n",
      "+------------+--------+------------+---------+\n",
      "\n"
     ]
    }
   ],
   "source": [
    "cmn_data.select(*[sum_(col(c).isNull().cast(\"int\")).alias(c) for c in cmn_data.columns]).show()"
   ]
  },
  {
   "cell_type": "code",
   "execution_count": 14,
   "metadata": {},
   "outputs": [
    {
     "name": "stdout",
     "output_type": "stream",
     "text": [
      "The length of the dataset is: 5478\n"
     ]
    }
   ],
   "source": [
    "dataset_length = cmn_data.count()\n",
    "print(\"The length of the dataset is:\", dataset_length)"
   ]
  },
  {
   "cell_type": "code",
   "execution_count": 15,
   "metadata": {},
   "outputs": [],
   "source": [
    "cmn_data = cmn_data.dropDuplicates()"
   ]
  },
  {
   "cell_type": "code",
   "execution_count": 16,
   "metadata": {},
   "outputs": [
    {
     "name": "stdout",
     "output_type": "stream",
     "text": [
      "The length of the dataset after dropping dupplicates is: 5478\n"
     ]
    }
   ],
   "source": [
    "dataset_length = cmn_data.count()\n",
    "print(\"The length of the dataset after dropping dupplicates is:\", dataset_length)"
   ]
  },
  {
   "cell_type": "code",
   "execution_count": 17,
   "metadata": {},
   "outputs": [
    {
     "data": {
      "text/html": [
       "<div>\n",
       "<style scoped>\n",
       "    .dataframe tbody tr th:only-of-type {\n",
       "        vertical-align: middle;\n",
       "    }\n",
       "\n",
       "    .dataframe tbody tr th {\n",
       "        vertical-align: top;\n",
       "    }\n",
       "\n",
       "    .dataframe thead th {\n",
       "        text-align: right;\n",
       "    }\n",
       "</style>\n",
       "<table border=\"1\" class=\"dataframe\">\n",
       "  <thead>\n",
       "    <tr style=\"text-align: right;\">\n",
       "      <th></th>\n",
       "      <th>HCHO Reading</th>\n",
       "      <th>Location</th>\n",
       "      <th>Current Date</th>\n",
       "      <th>Next Date</th>\n",
       "    </tr>\n",
       "  </thead>\n",
       "  <tbody>\n",
       "    <tr>\n",
       "      <th>0</th>\n",
       "      <td>0.000197</td>\n",
       "      <td>Colombo Proper</td>\n",
       "      <td>2019-01-01</td>\n",
       "      <td>2019-01-02</td>\n",
       "    </tr>\n",
       "    <tr>\n",
       "      <th>1</th>\n",
       "      <td>0.000197</td>\n",
       "      <td>Deniyaya, Matara</td>\n",
       "      <td>2019-01-01</td>\n",
       "      <td>2019-01-02</td>\n",
       "    </tr>\n",
       "    <tr>\n",
       "      <th>2</th>\n",
       "      <td>0.000263</td>\n",
       "      <td>Nuwara Eliya Proper</td>\n",
       "      <td>2019-01-01</td>\n",
       "      <td>2019-01-02</td>\n",
       "    </tr>\n",
       "    <tr>\n",
       "      <th>3</th>\n",
       "      <td>0.000263</td>\n",
       "      <td>Colombo Proper</td>\n",
       "      <td>2019-01-02</td>\n",
       "      <td>2019-01-03</td>\n",
       "    </tr>\n",
       "    <tr>\n",
       "      <th>4</th>\n",
       "      <td>0.000006</td>\n",
       "      <td>Deniyaya, Matara</td>\n",
       "      <td>2019-01-02</td>\n",
       "      <td>2019-01-03</td>\n",
       "    </tr>\n",
       "    <tr>\n",
       "      <th>...</th>\n",
       "      <td>...</td>\n",
       "      <td>...</td>\n",
       "      <td>...</td>\n",
       "      <td>...</td>\n",
       "    </tr>\n",
       "    <tr>\n",
       "      <th>5473</th>\n",
       "      <td>0.000080</td>\n",
       "      <td>Colombo Proper</td>\n",
       "      <td>2023-12-31</td>\n",
       "      <td>2024-01-01</td>\n",
       "    </tr>\n",
       "    <tr>\n",
       "      <th>5474</th>\n",
       "      <td>0.000080</td>\n",
       "      <td>Deniyaya, Matara</td>\n",
       "      <td>2023-12-31</td>\n",
       "      <td>2024-01-01</td>\n",
       "    </tr>\n",
       "    <tr>\n",
       "      <th>5475</th>\n",
       "      <td>0.000080</td>\n",
       "      <td>Nuwara Eliya Proper</td>\n",
       "      <td>2023-12-31</td>\n",
       "      <td>2024-01-01</td>\n",
       "    </tr>\n",
       "    <tr>\n",
       "      <th>5476</th>\n",
       "      <td>0.000254</td>\n",
       "      <td>Colombo Proper</td>\n",
       "      <td>2022-03-07</td>\n",
       "      <td>2022-03-08</td>\n",
       "    </tr>\n",
       "    <tr>\n",
       "      <th>5477</th>\n",
       "      <td>0.000029</td>\n",
       "      <td>Deniyaya, Matara</td>\n",
       "      <td>2022-07-10</td>\n",
       "      <td>2022-07-11</td>\n",
       "    </tr>\n",
       "  </tbody>\n",
       "</table>\n",
       "<p>5478 rows × 4 columns</p>\n",
       "</div>"
      ],
      "text/plain": [
       "      HCHO Reading             Location Current Date   Next Date\n",
       "0         0.000197       Colombo Proper   2019-01-01  2019-01-02\n",
       "1         0.000197     Deniyaya, Matara   2019-01-01  2019-01-02\n",
       "2         0.000263  Nuwara Eliya Proper   2019-01-01  2019-01-02\n",
       "3         0.000263       Colombo Proper   2019-01-02  2019-01-03\n",
       "4         0.000006     Deniyaya, Matara   2019-01-02  2019-01-03\n",
       "...            ...                  ...          ...         ...\n",
       "5473      0.000080       Colombo Proper   2023-12-31  2024-01-01\n",
       "5474      0.000080     Deniyaya, Matara   2023-12-31  2024-01-01\n",
       "5475      0.000080  Nuwara Eliya Proper   2023-12-31  2024-01-01\n",
       "5476      0.000254       Colombo Proper   2022-03-07  2022-03-08\n",
       "5477      0.000029     Deniyaya, Matara   2022-07-10  2022-07-11\n",
       "\n",
       "[5478 rows x 4 columns]"
      ]
     },
     "execution_count": 17,
     "metadata": {},
     "output_type": "execute_result"
    }
   ],
   "source": [
    "# Convert the PySpark DataFrame to a Pandas DataFrame\n",
    "cmn_data = cmn_data.toPandas()\n",
    "cmn_data"
   ]
  },
  {
   "cell_type": "code",
   "execution_count": 18,
   "metadata": {},
   "outputs": [
    {
     "data": {
      "image/png": "[encoded data removed]",
      "text/plain": [
       "<Figure size 1000x600 with 1 Axes>"
      ]
     },
     "metadata": {},
     "output_type": "display_data"
    }
   ],
   "source": [
    "# Plot the distribution of the \"HCHO Reading\" column\n",
    "plt.figure(figsize=(10, 6))\n",
    "sns.histplot(cmn_data[\"HCHO Reading\"], kde=True, color='skyblue')\n",
    "plt.title('Distribution of HCHO Reading')\n",
    "plt.xlabel('HCHO Reading')\n",
    "plt.ylabel('Frequency')\n",
    "plt.show()"
   ]
  },
  {
   "cell_type": "code",
   "execution_count": 19,
   "metadata": {},
   "outputs": [
    {
     "data": {
      "image/png": "[encoded data removed]",
      "text/plain": [
       "<Figure size 800x600 with 1 Axes>"
      ]
     },
     "metadata": {},
     "output_type": "display_data"
    }
   ],
   "source": [
    "plt.figure(figsize=(8, 6))\n",
    "plt.boxplot(cmn_data['HCHO Reading'])\n",
    "\n",
    "# Add title and labels\n",
    "plt.title('Boxplot of HCHO Reading')\n",
    "plt.ylabel('HCHO')\n",
    "\n",
    "# Show the plot\n",
    "plt.show()"
   ]
  },
  {
   "cell_type": "code",
   "execution_count": 20,
   "metadata": {},
   "outputs": [
    {
     "name": "stdout",
     "output_type": "stream",
     "text": [
      "Upper bound within the boxplot: 0.0003689670671425611\n",
      "number of outliers :- 77\n"
     ]
    }
   ],
   "source": [
    "# Upper Bound of the Dataset\n",
    "\n",
    "# Calculate Q1, Q3, and IQR\n",
    "Q1 = cmn_data['HCHO Reading'].quantile(0.25)\n",
    "Q3 = cmn_data['HCHO Reading'].quantile(0.75)\n",
    "IQR = Q3 - Q1\n",
    "\n",
    "# Compute upper whisker value\n",
    "upper_whisker = Q3 + 1.5 * IQR\n",
    "\n",
    "# Find the highest data point within the upper whisker range\n",
    "upper_bound_data = cmn_data['HCHO Reading'][cmn_data['HCHO Reading'] <= upper_whisker].max()\n",
    "\n",
    "print(\"Upper bound within the boxplot:\", upper_bound_data)\n",
    "\n",
    "# Number of records upper the bound of the dataset\\\n",
    "HCHO_Reading_outliers = cmn_data[cmn_data['HCHO Reading'] >= 0.0003689670671425611].value_counts().sum()\n",
    "print(f'number of outliers :- {HCHO_Reading_outliers}')"
   ]
  },
  {
   "cell_type": "code",
   "execution_count": 21,
   "metadata": {},
   "outputs": [
    {
     "data": {
      "image/png": "[encoded data removed]",
      "text/plain": [
       "<Figure size 800x500 with 1 Axes>"
      ]
     },
     "metadata": {},
     "output_type": "display_data"
    }
   ],
   "source": [
    "# Handle outliers by replacing values above 0.0006 with the mean of values below that threshold\n",
    "outlier_threshold = 0.0006\n",
    "\n",
    "mean_below_threshold = cmn_data.loc[cmn_data[\"HCHO Reading\"] <= outlier_threshold, \"HCHO Reading\"].mean()\n",
    "cmn_data.loc[cmn_data[\"HCHO Reading\"] > outlier_threshold, \"HCHO Reading\"] = mean_below_threshold\n",
    "\n",
    "# Create a box plot for the \"HCHO Reading\" column after handling outliers\n",
    "plt.figure(figsize=(8, 5))\n",
    "plt.boxplot(cmn_data[\"HCHO Reading\"])\n",
    "plt.title(\"HCHO Reading Box Plot After Outlier Handling\")\n",
    "plt.show()"
   ]
  },
  {
   "cell_type": "code",
   "execution_count": 23,
   "metadata": {},
   "outputs": [
    {
     "name": "stdout",
     "output_type": "stream",
     "text": [
      "The length of the dataset after handling is: HCHO Reading    5478\n",
      "Location        5478\n",
      "Current Date    5478\n",
      "Next Date       5478\n",
      "dtype: int64\n"
     ]
    }
   ],
   "source": [
    "dataset_length = cmn_data.count()\n",
    "print(\"The length of the dataset after handling is:\", dataset_length)"
   ]
  },
  {
   "cell_type": "code",
   "execution_count": 24,
   "metadata": {},
   "outputs": [],
   "source": [
    "cmn_data.to_csv(\"preprocessed_dataset/col_mat_nuw_pp.csv\", index=False)"
   ]
  },
  {
   "cell_type": "markdown",
   "metadata": {},
   "source": [
    "### KANDY DATASET"
   ]
  },
  {
   "cell_type": "code",
   "execution_count": 28,
   "metadata": {},
   "outputs": [],
   "source": [
    "# Load the dataset\n",
    "kan_data = spark.read.csv(\"dataset/kan_output.csv\", header=None, inferSchema=True)"
   ]
  },
  {
   "cell_type": "code",
   "execution_count": 29,
   "metadata": {},
   "outputs": [
    {
     "name": "stdout",
     "output_type": "stream",
     "text": [
      "root\n",
      " |-- _c0: double (nullable = true)\n",
      " |-- _c1: string (nullable = true)\n",
      " |-- _c2: date (nullable = true)\n",
      " |-- _c3: date (nullable = true)\n",
      "\n"
     ]
    }
   ],
   "source": [
    "kan_data.printSchema()"
   ]
  },
  {
   "cell_type": "code",
   "execution_count": 30,
   "metadata": {},
   "outputs": [
    {
     "name": "stdout",
     "output_type": "stream",
     "text": [
      "+--------------------+------------+----------+----------+\n",
      "|                 _c0|         _c1|       _c2|       _c3|\n",
      "+--------------------+------------+----------+----------+\n",
      "|1.760713459877335...|Kandy Proper|2019-01-01|2019-01-02|\n",
      "|9.220391253917748E-5|Kandy Proper|2019-01-02|2019-01-03|\n",
      "|                NULL|Kandy Proper|2019-01-03|2019-01-04|\n",
      "|1.908681983853839...|Kandy Proper|2019-01-04|2019-01-05|\n",
      "|1.219517840206744...|Kandy Proper|2019-01-05|2019-01-06|\n",
      "|-6.51408612938880...|Kandy Proper|2019-01-06|2019-01-07|\n",
      "|  1.6323820639265E-4|Kandy Proper|2019-01-07|2019-01-08|\n",
      "|-6.73520553391426...|Kandy Proper|2019-01-08|2019-01-09|\n",
      "|1.279693658243135...|Kandy Proper|2019-01-09|2019-01-10|\n",
      "|4.546048424126012E-5|Kandy Proper|2019-01-10|2019-01-11|\n",
      "|3.600074175192105E-5|Kandy Proper|2019-01-11|2019-01-12|\n",
      "|1.286629698010177E-4|Kandy Proper|2019-01-12|2019-01-13|\n",
      "|                NULL|Kandy Proper|2019-01-13|2019-01-14|\n",
      "|                NULL|Kandy Proper|2019-01-14|2019-01-15|\n",
      "| 9.63639634671553E-5|Kandy Proper|2019-01-15|2019-01-16|\n",
      "|                NULL|Kandy Proper|2019-01-16|2019-01-17|\n",
      "|1.200971278484736...|Kandy Proper|2019-01-17|2019-01-18|\n",
      "|-1.19724656713695...|Kandy Proper|2019-01-18|2019-01-19|\n",
      "|2.825263761529470...|Kandy Proper|2019-01-19|2019-01-20|\n",
      "|7.150631692646835E-5|Kandy Proper|2019-01-20|2019-01-21|\n",
      "+--------------------+------------+----------+----------+\n",
      "only showing top 20 rows\n",
      "\n"
     ]
    }
   ],
   "source": [
    "kan_data.show()"
   ]
  },
  {
   "cell_type": "code",
   "execution_count": 31,
   "metadata": {},
   "outputs": [
    {
     "name": "stdout",
     "output_type": "stream",
     "text": [
      "+--------------------+------------+------------+----------+\n",
      "|        HCHO Reading|    Location|Current Date| Next Date|\n",
      "+--------------------+------------+------------+----------+\n",
      "|1.760713459877335...|Kandy Proper|  2019-01-01|2019-01-02|\n",
      "|9.220391253917748E-5|Kandy Proper|  2019-01-02|2019-01-03|\n",
      "|                NULL|Kandy Proper|  2019-01-03|2019-01-04|\n",
      "|1.908681983853839...|Kandy Proper|  2019-01-04|2019-01-05|\n",
      "|1.219517840206744...|Kandy Proper|  2019-01-05|2019-01-06|\n",
      "|-6.51408612938880...|Kandy Proper|  2019-01-06|2019-01-07|\n",
      "|  1.6323820639265E-4|Kandy Proper|  2019-01-07|2019-01-08|\n",
      "|-6.73520553391426...|Kandy Proper|  2019-01-08|2019-01-09|\n",
      "|1.279693658243135...|Kandy Proper|  2019-01-09|2019-01-10|\n",
      "|4.546048424126012E-5|Kandy Proper|  2019-01-10|2019-01-11|\n",
      "|3.600074175192105E-5|Kandy Proper|  2019-01-11|2019-01-12|\n",
      "|1.286629698010177E-4|Kandy Proper|  2019-01-12|2019-01-13|\n",
      "|                NULL|Kandy Proper|  2019-01-13|2019-01-14|\n",
      "|                NULL|Kandy Proper|  2019-01-14|2019-01-15|\n",
      "| 9.63639634671553E-5|Kandy Proper|  2019-01-15|2019-01-16|\n",
      "|                NULL|Kandy Proper|  2019-01-16|2019-01-17|\n",
      "|1.200971278484736...|Kandy Proper|  2019-01-17|2019-01-18|\n",
      "|-1.19724656713695...|Kandy Proper|  2019-01-18|2019-01-19|\n",
      "|2.825263761529470...|Kandy Proper|  2019-01-19|2019-01-20|\n",
      "|7.150631692646835E-5|Kandy Proper|  2019-01-20|2019-01-21|\n",
      "+--------------------+------------+------------+----------+\n",
      "only showing top 20 rows\n",
      "\n"
     ]
    }
   ],
   "source": [
    "# Define the new column names\n",
    "column_names = ['HCHO Reading', 'Location', 'Current Date', 'Next Date']\n",
    "\n",
    "# Rename the columns\n",
    "for i, new_name in enumerate(column_names):\n",
    "    kan_data = kan_data.withColumnRenamed(kan_data.columns[i], new_name)\n",
    "\n",
    "kan_data.show()"
   ]
  },
  {
   "cell_type": "code",
   "execution_count": 32,
   "metadata": {},
   "outputs": [
    {
     "name": "stdout",
     "output_type": "stream",
     "text": [
      "+-------+--------------------+\n",
      "|summary|        HCHO Reading|\n",
      "+-------+--------------------+\n",
      "|  count|                1033|\n",
      "|   mean|1.063760956208845...|\n",
      "| stddev|9.202571862518035E-5|\n",
      "|    min|-2.99702863135199...|\n",
      "|    max|7.051621763962024E-4|\n",
      "+-------+--------------------+\n",
      "\n"
     ]
    }
   ],
   "source": [
    "# Data description of HCHO Reading column\n",
    "kan_data.describe('HCHO Reading').show()"
   ]
  },
  {
   "cell_type": "code",
   "execution_count": 33,
   "metadata": {},
   "outputs": [
    {
     "name": "stdout",
     "output_type": "stream",
     "text": [
      "Number of unique values in the 'Location' column: 1\n",
      "+------------+\n",
      "|    Location|\n",
      "+------------+\n",
      "|Kandy Proper|\n",
      "+------------+\n",
      "\n"
     ]
    }
   ],
   "source": [
    "unique_locations_count = kan_data.select(\"Location\").distinct().count()\n",
    "print(f\"Number of unique values in the 'Location' column: {unique_locations_count}\")\n",
    "kan_data.select(\"Location\").distinct().show()"
   ]
  },
  {
   "cell_type": "code",
   "execution_count": 34,
   "metadata": {},
   "outputs": [
    {
     "name": "stdout",
     "output_type": "stream",
     "text": [
      "+------------+--------+------------+---------+\n",
      "|HCHO Reading|Location|Current Date|Next Date|\n",
      "+------------+--------+------------+---------+\n",
      "|         793|       0|           0|        0|\n",
      "+------------+--------+------------+---------+\n",
      "\n"
     ]
    }
   ],
   "source": [
    "# Checking the sum of the Null values\n",
    "kan_data.select(*[sum_(col(c).isNull().cast(\"int\")).alias(c) for c in kan_data.columns]).show()"
   ]
  },
  {
   "cell_type": "code",
   "execution_count": 35,
   "metadata": {},
   "outputs": [],
   "source": [
    "# Initialize a counter for null values\n",
    "null_count = kan_data.filter(col(\"HCHO Reading\").isNull()).count()\n",
    "\n",
    "# Continue the process until there are no nulls left\n",
    "while null_count > 0:\n",
    "    # Define the window specifications\n",
    "    backward_windowSpec = Window.orderBy(\"Current Date\")\n",
    "    forward_windowSpec = Window.orderBy(\"Current Date\")\n",
    "    \n",
    "    # Use lag to carry the last observation forward\n",
    "    previous_value = lag(\"HCHO Reading\", 1).over(backward_windowSpec)\n",
    "    kan_data = kan_data.withColumn(\"HCHO Reading\", coalesce(\"HCHO Reading\", previous_value))\n",
    "    \n",
    "    # Use lead to carry the next observation backward\n",
    "    next_value = lead(\"HCHO Reading\", 1).over(forward_windowSpec)\n",
    "    kan_data = kan_data.withColumn(\"HCHO Reading\", coalesce(\"HCHO Reading\", next_value))\n",
    "    \n",
    "    # Update the null count\n",
    "    null_count = kan_data.filter(col(\"HCHO Reading\").isNull()).count()"
   ]
  },
  {
   "cell_type": "code",
   "execution_count": 36,
   "metadata": {},
   "outputs": [
    {
     "name": "stdout",
     "output_type": "stream",
     "text": [
      "+------------+--------+------------+---------+\n",
      "|HCHO Reading|Location|Current Date|Next Date|\n",
      "+------------+--------+------------+---------+\n",
      "|           0|       0|           0|        0|\n",
      "+------------+--------+------------+---------+\n",
      "\n"
     ]
    }
   ],
   "source": [
    "kan_data.select(*[sum_(col(c).isNull().cast(\"int\")).alias(c) for c in cmn_data.columns]).show()"
   ]
  },
  {
   "cell_type": "code",
   "execution_count": 37,
   "metadata": {},
   "outputs": [
    {
     "name": "stdout",
     "output_type": "stream",
     "text": [
      "The length of the dataset is: 1826\n"
     ]
    }
   ],
   "source": [
    "dataset_length = kan_data.count()\n",
    "print(\"The length of the dataset is:\", dataset_length)"
   ]
  },
  {
   "cell_type": "code",
   "execution_count": 38,
   "metadata": {},
   "outputs": [],
   "source": [
    "kan_data = kan_data.dropDuplicates()"
   ]
  },
  {
   "cell_type": "code",
   "execution_count": 39,
   "metadata": {},
   "outputs": [
    {
     "name": "stdout",
     "output_type": "stream",
     "text": [
      "The length of the dataset after dropping duplicates is: 1826\n"
     ]
    }
   ],
   "source": [
    "dataset_length = kan_data.count()\n",
    "print(\"The length of the dataset after dropping duplicates is:\", dataset_length)"
   ]
  },
  {
   "cell_type": "code",
   "execution_count": 40,
   "metadata": {},
   "outputs": [
    {
     "data": {
      "text/html": [
       "<div>\n",
       "<style scoped>\n",
       "    .dataframe tbody tr th:only-of-type {\n",
       "        vertical-align: middle;\n",
       "    }\n",
       "\n",
       "    .dataframe tbody tr th {\n",
       "        vertical-align: top;\n",
       "    }\n",
       "\n",
       "    .dataframe thead th {\n",
       "        text-align: right;\n",
       "    }\n",
       "</style>\n",
       "<table border=\"1\" class=\"dataframe\">\n",
       "  <thead>\n",
       "    <tr style=\"text-align: right;\">\n",
       "      <th></th>\n",
       "      <th>HCHO Reading</th>\n",
       "      <th>Location</th>\n",
       "      <th>Current Date</th>\n",
       "      <th>Next Date</th>\n",
       "    </tr>\n",
       "  </thead>\n",
       "  <tbody>\n",
       "    <tr>\n",
       "      <th>0</th>\n",
       "      <td>0.000176</td>\n",
       "      <td>Kandy Proper</td>\n",
       "      <td>2019-01-01</td>\n",
       "      <td>2019-01-02</td>\n",
       "    </tr>\n",
       "    <tr>\n",
       "      <th>1</th>\n",
       "      <td>0.000092</td>\n",
       "      <td>Kandy Proper</td>\n",
       "      <td>2019-01-02</td>\n",
       "      <td>2019-01-03</td>\n",
       "    </tr>\n",
       "    <tr>\n",
       "      <th>2</th>\n",
       "      <td>0.000092</td>\n",
       "      <td>Kandy Proper</td>\n",
       "      <td>2019-01-03</td>\n",
       "      <td>2019-01-04</td>\n",
       "    </tr>\n",
       "    <tr>\n",
       "      <th>3</th>\n",
       "      <td>0.000191</td>\n",
       "      <td>Kandy Proper</td>\n",
       "      <td>2019-01-04</td>\n",
       "      <td>2019-01-05</td>\n",
       "    </tr>\n",
       "    <tr>\n",
       "      <th>4</th>\n",
       "      <td>0.000122</td>\n",
       "      <td>Kandy Proper</td>\n",
       "      <td>2019-01-05</td>\n",
       "      <td>2019-01-06</td>\n",
       "    </tr>\n",
       "    <tr>\n",
       "      <th>...</th>\n",
       "      <td>...</td>\n",
       "      <td>...</td>\n",
       "      <td>...</td>\n",
       "      <td>...</td>\n",
       "    </tr>\n",
       "    <tr>\n",
       "      <th>1821</th>\n",
       "      <td>0.000056</td>\n",
       "      <td>Kandy Proper</td>\n",
       "      <td>2023-12-27</td>\n",
       "      <td>2023-12-28</td>\n",
       "    </tr>\n",
       "    <tr>\n",
       "      <th>1822</th>\n",
       "      <td>0.000056</td>\n",
       "      <td>Kandy Proper</td>\n",
       "      <td>2023-12-28</td>\n",
       "      <td>2023-12-29</td>\n",
       "    </tr>\n",
       "    <tr>\n",
       "      <th>1823</th>\n",
       "      <td>0.000056</td>\n",
       "      <td>Kandy Proper</td>\n",
       "      <td>2023-12-29</td>\n",
       "      <td>2023-12-30</td>\n",
       "    </tr>\n",
       "    <tr>\n",
       "      <th>1824</th>\n",
       "      <td>0.000056</td>\n",
       "      <td>Kandy Proper</td>\n",
       "      <td>2023-12-30</td>\n",
       "      <td>2023-12-31</td>\n",
       "    </tr>\n",
       "    <tr>\n",
       "      <th>1825</th>\n",
       "      <td>0.000056</td>\n",
       "      <td>Kandy Proper</td>\n",
       "      <td>2023-12-31</td>\n",
       "      <td>2024-01-01</td>\n",
       "    </tr>\n",
       "  </tbody>\n",
       "</table>\n",
       "<p>1826 rows × 4 columns</p>\n",
       "</div>"
      ],
      "text/plain": [
       "      HCHO Reading      Location Current Date   Next Date\n",
       "0         0.000176  Kandy Proper   2019-01-01  2019-01-02\n",
       "1         0.000092  Kandy Proper   2019-01-02  2019-01-03\n",
       "2         0.000092  Kandy Proper   2019-01-03  2019-01-04\n",
       "3         0.000191  Kandy Proper   2019-01-04  2019-01-05\n",
       "4         0.000122  Kandy Proper   2019-01-05  2019-01-06\n",
       "...            ...           ...          ...         ...\n",
       "1821      0.000056  Kandy Proper   2023-12-27  2023-12-28\n",
       "1822      0.000056  Kandy Proper   2023-12-28  2023-12-29\n",
       "1823      0.000056  Kandy Proper   2023-12-29  2023-12-30\n",
       "1824      0.000056  Kandy Proper   2023-12-30  2023-12-31\n",
       "1825      0.000056  Kandy Proper   2023-12-31  2024-01-01\n",
       "\n",
       "[1826 rows x 4 columns]"
      ]
     },
     "execution_count": 40,
     "metadata": {},
     "output_type": "execute_result"
    }
   ],
   "source": [
    "# Convert the PySpark DataFrame to a Pandas DataFrame\n",
    "kan_data = kan_data.toPandas()\n",
    "kan_data"
   ]
  },
  {
   "cell_type": "code",
   "execution_count": 41,
   "metadata": {},
   "outputs": [
    {
     "data": {
      "image/png": "[encoded data removed]",
      "text/plain": [
       "<Figure size 1000x600 with 1 Axes>"
      ]
     },
     "metadata": {},
     "output_type": "display_data"
    }
   ],
   "source": [
    "# Plot the distribution of the \"HCHO Reading\" column\n",
    "plt.figure(figsize=(10, 6))\n",
    "sns.histplot(kan_data[\"HCHO Reading\"], kde=True, color='skyblue')\n",
    "plt.title('Distribution of HCHO Reading')\n",
    "plt.xlabel('HCHO Reading')\n",
    "plt.ylabel('Frequency')\n",
    "plt.show()"
   ]
  },
  {
   "cell_type": "code",
   "execution_count": 42,
   "metadata": {},
   "outputs": [
    {
     "data": {
      "image/png": "[encoded data removed]",
      "text/plain": [
       "<Figure size 800x600 with 1 Axes>"
      ]
     },
     "metadata": {},
     "output_type": "display_data"
    }
   ],
   "source": [
    "plt.figure(figsize=(8, 6))\n",
    "plt.boxplot(kan_data['HCHO Reading'])\n",
    "\n",
    "# Add title and labels\n",
    "plt.title('Boxplot of HCHO Reading')\n",
    "plt.ylabel('HCHO')\n",
    "\n",
    "# Show the plot\n",
    "plt.show()"
   ]
  },
  {
   "cell_type": "code",
   "execution_count": 52,
   "metadata": {},
   "outputs": [
    {
     "name": "stdout",
     "output_type": "stream",
     "text": [
      "Upper bound within the boxplot: 0.0003200669603676059\n",
      "Lower bound within the boxplot: -1.7284497626648424e-05\n",
      "Number of outliers above:- 27\n",
      "Number of outliers below:- 143\n"
     ]
    }
   ],
   "source": [
    "# Upper Bound of the Dataset\n",
    "\n",
    "# Calculate Q1, Q3, and IQR\n",
    "Q1 = kan_data['HCHO Reading'].quantile(0.25)\n",
    "Q3 = kan_data['HCHO Reading'].quantile(0.75)\n",
    "IQR = Q3 - Q1\n",
    "\n",
    "# Compute upper whisker value\n",
    "upper_whisker = Q3 + 1.5 * IQR\n",
    "lower_whisker = Q3 - 1.5 * IQR\n",
    "\n",
    "# Find the highest data point within the upper whisker range\n",
    "upper_bound_data = kan_data['HCHO Reading'][kan_data['HCHO Reading'] <= upper_whisker].max()\n",
    "lower_bound_data = kan_data['HCHO Reading'][kan_data['HCHO Reading'] <= lower_whisker].max()\n",
    "\n",
    "print(\"Upper bound within the boxplot:\", upper_bound_data)\n",
    "print(\"Lower bound within the boxplot:\", lower_bound_data)\n",
    "\n",
    "# Number of records upper the bound of the dataset\n",
    "HCHO_Reading_outliers_max = kan_data[kan_data['HCHO Reading'] >= 0.0003200669603676059].value_counts().sum()\n",
    "HCHO_Reading_outliers_min = kan_data[kan_data['HCHO Reading'] <= -1.7284497626648424e-05].value_counts().sum()\n",
    "print(f'Number of outliers above:- {HCHO_Reading_outliers_max}')\n",
    "print(f'Number of outliers below:- {HCHO_Reading_outliers_min}')"
   ]
  },
  {
   "cell_type": "code",
   "execution_count": 54,
   "metadata": {},
   "outputs": [
    {
     "data": {
      "image/png": "[encoded data removed]",
      "text/plain": [
       "<Figure size 800x500 with 1 Axes>"
      ]
     },
     "metadata": {},
     "output_type": "display_data"
    }
   ],
   "source": [
    "# Calculate the mean of values within the thresholds\n",
    "mean_within_threshold = kan_data.loc[(kan_data[\"HCHO Reading\"] >= lower_bound_data) & \n",
    "                                      (kan_data[\"HCHO Reading\"] <= upper_bound_data), \n",
    "                                      \"HCHO Reading\"].mean()\n",
    "\n",
    "# Replace values below the lower threshold and above the upper threshold with the calculated mean\n",
    "kan_data.loc[kan_data[\"HCHO Reading\"] < lower_bound_data, \"HCHO Reading\"] = mean_within_threshold\n",
    "kan_data.loc[kan_data[\"HCHO Reading\"] > upper_bound_data, \"HCHO Reading\"] = mean_within_threshold\n",
    "\n",
    "# Create a box plot for the \"HCHO Reading\" column after handling outliers\n",
    "plt.figure(figsize=(8, 5))\n",
    "plt.boxplot(kan_data[\"HCHO Reading\"])\n",
    "plt.title(\"HCHO Reading Box Plot After Outlier Handling\")\n",
    "plt.show()"
   ]
  },
  {
   "cell_type": "code",
   "execution_count": 56,
   "metadata": {},
   "outputs": [
    {
     "name": "stdout",
     "output_type": "stream",
     "text": [
      "The length of the dataset after handling outliers is: HCHO Reading    1826\n",
      "Location        1826\n",
      "Current Date    1826\n",
      "Next Date       1826\n",
      "dtype: int64\n"
     ]
    }
   ],
   "source": [
    "dataset_length = kan_data.count()\n",
    "print(\"The length of the dataset after handling outliers is:\", dataset_length)"
   ]
  },
  {
   "cell_type": "code",
   "execution_count": 57,
   "metadata": {},
   "outputs": [],
   "source": [
    "cmn_data.to_csv(\"preprocessed_dataset/kan_pp.csv\", index=False)"
   ]
  },
  {
   "cell_type": "markdown",
   "metadata": {},
   "source": [
    "### KURUNEGALA - BIBILE/MONARAGALA - JAFFNA DATASET"
   ]
  },
  {
   "cell_type": "code",
   "execution_count": 59,
   "metadata": {},
   "outputs": [],
   "source": [
    "# Load the dataset\n",
    "mkj_data = spark.read.csv(\"dataset/mon_kur_jaf_output.csv\", header=None, inferSchema=True)"
   ]
  },
  {
   "cell_type": "code",
   "execution_count": 60,
   "metadata": {},
   "outputs": [
    {
     "name": "stdout",
     "output_type": "stream",
     "text": [
      "root\n",
      " |-- _c0: double (nullable = true)\n",
      " |-- _c1: string (nullable = true)\n",
      " |-- _c2: date (nullable = true)\n",
      " |-- _c3: date (nullable = true)\n",
      "\n"
     ]
    }
   ],
   "source": [
    "mkj_data.printSchema()"
   ]
  },
  {
   "cell_type": "code",
   "execution_count": 61,
   "metadata": {},
   "outputs": [
    {
     "name": "stdout",
     "output_type": "stream",
     "text": [
      "+--------------------+------------------+----------+----------+\n",
      "|                 _c0|               _c1|       _c2|       _c3|\n",
      "+--------------------+------------------+----------+----------+\n",
      "|                NULL|Bibile, Monaragala|2019-01-01|2019-01-02|\n",
      "|1.919914652467399E-5|Bibile, Monaragala|2019-01-02|2019-01-03|\n",
      "|2.811447935930283...|Bibile, Monaragala|2019-01-03|2019-01-04|\n",
      "|3.747998184385943E-5|Bibile, Monaragala|2019-01-04|2019-01-05|\n",
      "|-1.79826087934531...|Bibile, Monaragala|2019-01-05|2019-01-06|\n",
      "|1.457836896179902...|Bibile, Monaragala|2019-01-06|2019-01-07|\n",
      "|2.828590802546534...|Bibile, Monaragala|2019-01-07|2019-01-08|\n",
      "|                NULL|Bibile, Monaragala|2019-01-08|2019-01-09|\n",
      "|1.420850167050957...|Bibile, Monaragala|2019-01-09|2019-01-10|\n",
      "|                NULL|Bibile, Monaragala|2019-01-10|2019-01-11|\n",
      "|2.014587947072581E-5|Bibile, Monaragala|2019-01-11|2019-01-12|\n",
      "|1.582787663210183...|Bibile, Monaragala|2019-01-12|2019-01-13|\n",
      "|                NULL|Bibile, Monaragala|2019-01-13|2019-01-14|\n",
      "|                NULL|Bibile, Monaragala|2019-01-14|2019-01-15|\n",
      "|9.952823849642218E-5|Bibile, Monaragala|2019-01-15|2019-01-16|\n",
      "|7.484570960514249E-5|Bibile, Monaragala|2019-01-16|2019-01-17|\n",
      "|7.736112226328797E-5|Bibile, Monaragala|2019-01-17|2019-01-18|\n",
      "|                NULL|Bibile, Monaragala|2019-01-18|2019-01-19|\n",
      "|3.988141010407665...|Bibile, Monaragala|2019-01-19|2019-01-20|\n",
      "|1.891620203853342...|Bibile, Monaragala|2019-01-20|2019-01-21|\n",
      "+--------------------+------------------+----------+----------+\n",
      "only showing top 20 rows\n",
      "\n"
     ]
    }
   ],
   "source": [
    "mkj_data.show()"
   ]
  },
  {
   "cell_type": "code",
   "execution_count": 62,
   "metadata": {},
   "outputs": [
    {
     "name": "stdout",
     "output_type": "stream",
     "text": [
      "+--------------------+------------------+------------+----------+\n",
      "|        HCHO Reading|          Location|Current Date| Next Date|\n",
      "+--------------------+------------------+------------+----------+\n",
      "|                NULL|Bibile, Monaragala|  2019-01-01|2019-01-02|\n",
      "|1.919914652467399E-5|Bibile, Monaragala|  2019-01-02|2019-01-03|\n",
      "|2.811447935930283...|Bibile, Monaragala|  2019-01-03|2019-01-04|\n",
      "|3.747998184385943E-5|Bibile, Monaragala|  2019-01-04|2019-01-05|\n",
      "|-1.79826087934531...|Bibile, Monaragala|  2019-01-05|2019-01-06|\n",
      "|1.457836896179902...|Bibile, Monaragala|  2019-01-06|2019-01-07|\n",
      "|2.828590802546534...|Bibile, Monaragala|  2019-01-07|2019-01-08|\n",
      "|                NULL|Bibile, Monaragala|  2019-01-08|2019-01-09|\n",
      "|1.420850167050957...|Bibile, Monaragala|  2019-01-09|2019-01-10|\n",
      "|                NULL|Bibile, Monaragala|  2019-01-10|2019-01-11|\n",
      "|2.014587947072581E-5|Bibile, Monaragala|  2019-01-11|2019-01-12|\n",
      "|1.582787663210183...|Bibile, Monaragala|  2019-01-12|2019-01-13|\n",
      "|                NULL|Bibile, Monaragala|  2019-01-13|2019-01-14|\n",
      "|                NULL|Bibile, Monaragala|  2019-01-14|2019-01-15|\n",
      "|9.952823849642218E-5|Bibile, Monaragala|  2019-01-15|2019-01-16|\n",
      "|7.484570960514249E-5|Bibile, Monaragala|  2019-01-16|2019-01-17|\n",
      "|7.736112226328797E-5|Bibile, Monaragala|  2019-01-17|2019-01-18|\n",
      "|                NULL|Bibile, Monaragala|  2019-01-18|2019-01-19|\n",
      "|3.988141010407665...|Bibile, Monaragala|  2019-01-19|2019-01-20|\n",
      "|1.891620203853342...|Bibile, Monaragala|  2019-01-20|2019-01-21|\n",
      "+--------------------+------------------+------------+----------+\n",
      "only showing top 20 rows\n",
      "\n"
     ]
    }
   ],
   "source": [
    "# Define the new column names\n",
    "column_names = ['HCHO Reading', 'Location', 'Current Date', 'Next Date']\n",
    "\n",
    "# Rename the columns\n",
    "for i, new_name in enumerate(column_names):\n",
    "    mkj_data = mkj_data.withColumnRenamed(mkj_data.columns[i], new_name)\n",
    "\n",
    "mkj_data.show()"
   ]
  },
  {
   "cell_type": "code",
   "execution_count": 63,
   "metadata": {},
   "outputs": [
    {
     "name": "stdout",
     "output_type": "stream",
     "text": [
      "+-------+--------------------+\n",
      "|summary|        HCHO Reading|\n",
      "+-------+--------------------+\n",
      "|  count|                3826|\n",
      "|   mean|1.221495984357837E-4|\n",
      "| stddev|8.663968642569532E-5|\n",
      "|    min|-3.52473024357239...|\n",
      "|    max|5.837611392919413E-4|\n",
      "+-------+--------------------+\n",
      "\n"
     ]
    }
   ],
   "source": [
    "# Data description of HCHO Reading column\n",
    "mkj_data.describe('HCHO Reading').show()"
   ]
  },
  {
   "cell_type": "code",
   "execution_count": 64,
   "metadata": {},
   "outputs": [
    {
     "name": "stdout",
     "output_type": "stream",
     "text": [
      "Number of unique values in the 'Location' column: 3\n",
      "+------------------+\n",
      "|          Location|\n",
      "+------------------+\n",
      "| Kurunegala Proper|\n",
      "|Bibile, Monaragala|\n",
      "|     Jaffna Proper|\n",
      "+------------------+\n",
      "\n"
     ]
    }
   ],
   "source": [
    "unique_locations_count = mkj_data.select(\"Location\").distinct().count()\n",
    "print(f\"Number of unique values in the 'Location' column: {unique_locations_count}\")\n",
    "mkj_data.select(\"Location\").distinct().show()"
   ]
  },
  {
   "cell_type": "code",
   "execution_count": 65,
   "metadata": {},
   "outputs": [
    {
     "name": "stdout",
     "output_type": "stream",
     "text": [
      "+------------+--------+------------+---------+\n",
      "|HCHO Reading|Location|Current Date|Next Date|\n",
      "+------------+--------+------------+---------+\n",
      "|        1652|       0|           0|        0|\n",
      "+------------+--------+------------+---------+\n",
      "\n"
     ]
    }
   ],
   "source": [
    "# Checking the sum of the Null values\n",
    "mkj_data.select(*[sum_(col(c).isNull().cast(\"int\")).alias(c) for c in mkj_data.columns]).show()"
   ]
  },
  {
   "cell_type": "code",
   "execution_count": 66,
   "metadata": {},
   "outputs": [],
   "source": [
    "# Initialize a counter for null values\n",
    "null_count = mkj_data.filter(col(\"HCHO Reading\").isNull()).count()\n",
    "\n",
    "# Continue the process until there are no nulls left\n",
    "while null_count > 0:\n",
    "    # Define the window specifications\n",
    "    backward_windowSpec = Window.orderBy(\"Current Date\")\n",
    "    forward_windowSpec = Window.orderBy(\"Current Date\")\n",
    "    \n",
    "    # Use lag to carry the last observation forward\n",
    "    previous_value = lag(\"HCHO Reading\", 1).over(backward_windowSpec)\n",
    "    mkj_data = mkj_data.withColumn(\"HCHO Reading\", coalesce(\"HCHO Reading\", previous_value))\n",
    "    \n",
    "    # Use lead to carry the next observation backward\n",
    "    next_value = lead(\"HCHO Reading\", 1).over(forward_windowSpec)\n",
    "    mkj_data = mkj_data.withColumn(\"HCHO Reading\", coalesce(\"HCHO Reading\", next_value))\n",
    "    \n",
    "    # Update the null count\n",
    "    null_count = mkj_data.filter(col(\"HCHO Reading\").isNull()).count()"
   ]
  },
  {
   "cell_type": "code",
   "execution_count": 67,
   "metadata": {},
   "outputs": [
    {
     "name": "stdout",
     "output_type": "stream",
     "text": [
      "+------------+--------+------------+---------+\n",
      "|HCHO Reading|Location|Current Date|Next Date|\n",
      "+------------+--------+------------+---------+\n",
      "|           0|       0|           0|        0|\n",
      "+------------+--------+------------+---------+\n",
      "\n"
     ]
    }
   ],
   "source": [
    "mkj_data.select(*[sum_(col(c).isNull().cast(\"int\")).alias(c) for c in mkj_data.columns]).show()"
   ]
  },
  {
   "cell_type": "code",
   "execution_count": 68,
   "metadata": {},
   "outputs": [
    {
     "name": "stdout",
     "output_type": "stream",
     "text": [
      "The length of the dataset is: 5478\n"
     ]
    }
   ],
   "source": [
    "dataset_length = mkj_data.count()\n",
    "print(\"The length of the dataset is:\", dataset_length)"
   ]
  },
  {
   "cell_type": "code",
   "execution_count": 69,
   "metadata": {},
   "outputs": [],
   "source": [
    "mkj_data = mkj_data.dropDuplicates()"
   ]
  },
  {
   "cell_type": "code",
   "execution_count": 70,
   "metadata": {},
   "outputs": [
    {
     "name": "stdout",
     "output_type": "stream",
     "text": [
      "The length of the dataset is: 5478\n"
     ]
    }
   ],
   "source": [
    "dataset_length = mkj_data.count()\n",
    "print(\"The length of the dataset is:\", dataset_length)"
   ]
  },
  {
   "cell_type": "code",
   "execution_count": 71,
   "metadata": {},
   "outputs": [
    {
     "data": {
      "text/html": [
       "<div>\n",
       "<style scoped>\n",
       "    .dataframe tbody tr th:only-of-type {\n",
       "        vertical-align: middle;\n",
       "    }\n",
       "\n",
       "    .dataframe tbody tr th {\n",
       "        vertical-align: top;\n",
       "    }\n",
       "\n",
       "    .dataframe thead th {\n",
       "        text-align: right;\n",
       "    }\n",
       "</style>\n",
       "<table border=\"1\" class=\"dataframe\">\n",
       "  <thead>\n",
       "    <tr style=\"text-align: right;\">\n",
       "      <th></th>\n",
       "      <th>HCHO Reading</th>\n",
       "      <th>Location</th>\n",
       "      <th>Current Date</th>\n",
       "      <th>Next Date</th>\n",
       "    </tr>\n",
       "  </thead>\n",
       "  <tbody>\n",
       "    <tr>\n",
       "      <th>0</th>\n",
       "      <td>0.000088</td>\n",
       "      <td>Bibile, Monaragala</td>\n",
       "      <td>2019-01-01</td>\n",
       "      <td>2019-01-02</td>\n",
       "    </tr>\n",
       "    <tr>\n",
       "      <th>1</th>\n",
       "      <td>0.000088</td>\n",
       "      <td>Kurunegala Proper</td>\n",
       "      <td>2019-01-01</td>\n",
       "      <td>2019-01-02</td>\n",
       "    </tr>\n",
       "    <tr>\n",
       "      <th>2</th>\n",
       "      <td>0.000058</td>\n",
       "      <td>Jaffna Proper</td>\n",
       "      <td>2019-01-01</td>\n",
       "      <td>2019-01-02</td>\n",
       "    </tr>\n",
       "    <tr>\n",
       "      <th>3</th>\n",
       "      <td>0.000019</td>\n",
       "      <td>Bibile, Monaragala</td>\n",
       "      <td>2019-01-02</td>\n",
       "      <td>2019-01-03</td>\n",
       "    </tr>\n",
       "    <tr>\n",
       "      <th>4</th>\n",
       "      <td>0.000137</td>\n",
       "      <td>Kurunegala Proper</td>\n",
       "      <td>2019-01-02</td>\n",
       "      <td>2019-01-03</td>\n",
       "    </tr>\n",
       "    <tr>\n",
       "      <th>...</th>\n",
       "      <td>...</td>\n",
       "      <td>...</td>\n",
       "      <td>...</td>\n",
       "      <td>...</td>\n",
       "    </tr>\n",
       "    <tr>\n",
       "      <th>5473</th>\n",
       "      <td>0.000117</td>\n",
       "      <td>Jaffna Proper</td>\n",
       "      <td>2023-12-30</td>\n",
       "      <td>2023-12-31</td>\n",
       "    </tr>\n",
       "    <tr>\n",
       "      <th>5474</th>\n",
       "      <td>0.000117</td>\n",
       "      <td>Bibile, Monaragala</td>\n",
       "      <td>2023-12-31</td>\n",
       "      <td>2024-01-01</td>\n",
       "    </tr>\n",
       "    <tr>\n",
       "      <th>5475</th>\n",
       "      <td>0.000065</td>\n",
       "      <td>Kurunegala Proper</td>\n",
       "      <td>2023-12-31</td>\n",
       "      <td>2024-01-01</td>\n",
       "    </tr>\n",
       "    <tr>\n",
       "      <th>5476</th>\n",
       "      <td>0.000065</td>\n",
       "      <td>Jaffna Proper</td>\n",
       "      <td>2023-12-31</td>\n",
       "      <td>2024-01-01</td>\n",
       "    </tr>\n",
       "    <tr>\n",
       "      <th>5477</th>\n",
       "      <td>0.000129</td>\n",
       "      <td>Bibile, Monaragala</td>\n",
       "      <td>2023-01-24</td>\n",
       "      <td>2023-01-25</td>\n",
       "    </tr>\n",
       "  </tbody>\n",
       "</table>\n",
       "<p>5478 rows × 4 columns</p>\n",
       "</div>"
      ],
      "text/plain": [
       "      HCHO Reading            Location Current Date   Next Date\n",
       "0         0.000088  Bibile, Monaragala   2019-01-01  2019-01-02\n",
       "1         0.000088   Kurunegala Proper   2019-01-01  2019-01-02\n",
       "2         0.000058       Jaffna Proper   2019-01-01  2019-01-02\n",
       "3         0.000019  Bibile, Monaragala   2019-01-02  2019-01-03\n",
       "4         0.000137   Kurunegala Proper   2019-01-02  2019-01-03\n",
       "...            ...                 ...          ...         ...\n",
       "5473      0.000117       Jaffna Proper   2023-12-30  2023-12-31\n",
       "5474      0.000117  Bibile, Monaragala   2023-12-31  2024-01-01\n",
       "5475      0.000065   Kurunegala Proper   2023-12-31  2024-01-01\n",
       "5476      0.000065       Jaffna Proper   2023-12-31  2024-01-01\n",
       "5477      0.000129  Bibile, Monaragala   2023-01-24  2023-01-25\n",
       "\n",
       "[5478 rows x 4 columns]"
      ]
     },
     "execution_count": 71,
     "metadata": {},
     "output_type": "execute_result"
    }
   ],
   "source": [
    "# Convert the PySpark DataFrame to a Pandas DataFrame\n",
    "mkj_data = mkj_data.toPandas()\n",
    "mkj_data"
   ]
  },
  {
   "cell_type": "code",
   "execution_count": 72,
   "metadata": {},
   "outputs": [
    {
     "data": {
      "image/png": "[encoded data removed]",
      "text/plain": [
       "<Figure size 1000x600 with 1 Axes>"
      ]
     },
     "metadata": {},
     "output_type": "display_data"
    }
   ],
   "source": [
    "# Plot the distribution of the \"HCHO Reading\" column\n",
    "plt.figure(figsize=(10, 6))\n",
    "sns.histplot(mkj_data[\"HCHO Reading\"], kde=True, color='skyblue')\n",
    "plt.title('Distribution of HCHO Reading')\n",
    "plt.xlabel('HCHO Reading')\n",
    "plt.ylabel('Frequency')\n",
    "plt.show()"
   ]
  },
  {
   "cell_type": "code",
   "execution_count": 73,
   "metadata": {},
   "outputs": [
    {
     "data": {
      "image/png": "[encoded data removed]",
      "text/plain": [
       "<Figure size 800x600 with 1 Axes>"
      ]
     },
     "metadata": {},
     "output_type": "display_data"
    }
   ],
   "source": [
    "plt.figure(figsize=(8, 6))\n",
    "plt.boxplot(mkj_data['HCHO Reading'])\n",
    "\n",
    "# Add title and labels\n",
    "plt.title('Boxplot of HCHO Reading')\n",
    "plt.ylabel('HCHO')\n",
    "\n",
    "# Show the plot\n",
    "plt.show()"
   ]
  },
  {
   "cell_type": "code",
   "execution_count": 75,
   "metadata": {},
   "outputs": [
    {
     "name": "stdout",
     "output_type": "stream",
     "text": [
      "Upper bound within the boxplot: 0.00032778175906661634\n",
      "Lower bound within the boxplot: 1.2257230357363106e-05\n",
      "Number of outliers above:- 128\n",
      "Number of outliers below:- 430\n"
     ]
    }
   ],
   "source": [
    "# Upper Bound of the Dataset\n",
    "\n",
    "# Calculate Q1, Q3, and IQR\n",
    "Q1 = mkj_data['HCHO Reading'].quantile(0.25)\n",
    "Q3 = mkj_data['HCHO Reading'].quantile(0.75)\n",
    "IQR = Q3 - Q1\n",
    "\n",
    "# Compute upper whisker value\n",
    "upper_whisker = Q3 + 1.5 * IQR\n",
    "lower_whisker = Q3 - 1.5 * IQR\n",
    "\n",
    "# Find the highest data point within the upper whisker range\n",
    "upper_bound_data = mkj_data['HCHO Reading'][mkj_data['HCHO Reading'] <= upper_whisker].max()\n",
    "lower_bound_data = mkj_data['HCHO Reading'][mkj_data['HCHO Reading'] <= lower_whisker].max()\n",
    "\n",
    "print(\"Upper bound within the boxplot:\", upper_bound_data)\n",
    "print(\"Lower bound within the boxplot:\", lower_bound_data)\n",
    "\n",
    "# Number of records upper the bound of the dataset\n",
    "HCHO_Reading_outliers_max = mkj_data[mkj_data['HCHO Reading'] >= 0.00032778175906661634].value_counts().sum()\n",
    "HCHO_Reading_outliers_min = mkj_data[mkj_data['HCHO Reading'] <= 1.2257230357363106e-05].value_counts().sum()\n",
    "print(f'Number of outliers above:- {HCHO_Reading_outliers_max}')\n",
    "print(f'Number of outliers below:- {HCHO_Reading_outliers_min}')"
   ]
  },
  {
   "cell_type": "code",
   "execution_count": 76,
   "metadata": {},
   "outputs": [
    {
     "data": {
      "image/png": "[encoded data removed]",
      "text/plain": [
       "<Figure size 800x500 with 1 Axes>"
      ]
     },
     "metadata": {},
     "output_type": "display_data"
    }
   ],
   "source": [
    "# Calculate the mean of values within the thresholds\n",
    "mean_within_threshold = mkj_data.loc[(mkj_data[\"HCHO Reading\"] >= lower_bound_data) & \n",
    "                                      (mkj_data[\"HCHO Reading\"] <= upper_bound_data), \n",
    "                                      \"HCHO Reading\"].mean()\n",
    "\n",
    "# Replace values below the lower threshold and above the upper threshold with the calculated mean\n",
    "mkj_data.loc[mkj_data[\"HCHO Reading\"] < lower_bound_data, \"HCHO Reading\"] = mean_within_threshold\n",
    "mkj_data.loc[mkj_data[\"HCHO Reading\"] > upper_bound_data, \"HCHO Reading\"] = mean_within_threshold\n",
    "\n",
    "# Create a box plot for the \"HCHO Reading\" column after handling outliers\n",
    "plt.figure(figsize=(8, 5))\n",
    "plt.boxplot(mkj_data[\"HCHO Reading\"])\n",
    "plt.title(\"HCHO Reading Box Plot After Outlier Handling\")\n",
    "plt.show()"
   ]
  },
  {
   "cell_type": "code",
   "execution_count": 54,
   "metadata": {},
   "outputs": [],
   "source": [
    "mkj_data.to_csv(\"preprocessed_dataset/mon_kur_jaf_pp.csv\", index=False)"
   ]
  }
 ],
 "metadata": {
  "kernelspec": {
   "display_name": "Python 3",
   "language": "python",
   "name": "python3"
  },
  "language_info": {
   "codemirror_mode": {
    "name": "ipython",
    "version": 3
   },
   "file_extension": ".py",
   "mimetype": "text/x-python",
   "name": "python",
   "nbconvert_exporter": "python",
   "pygments_lexer": "ipython3",
   "version": "3.10.0"
  }
 },
 "nbformat": 4,
 "nbformat_minor": 2
}
