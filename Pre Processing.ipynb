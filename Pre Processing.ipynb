{
 "cells": [
  {
   "cell_type": "code",
   "execution_count": 21,
   "metadata": {},
   "outputs": [],
   "source": [
    "import pyspark\n",
    "import pyspark.sql  as pyspark_sql\n",
    "import pyspark.sql.types as pyspark_types\n",
    "import pyspark.sql.functions  as pyspark_functions\n",
    "from pyspark import SparkContext, SparkConf\n",
    "from pyspark.sql.functions import col, sum as sum_\n",
    "from pyspark.sql.window import Window\n",
    "from pyspark.sql.functions import coalesce, col, lag, lead, count\n",
    "from pyspark.sql.functions import mean\n",
    "\n",
    "import pandas as pd\n",
    "import matplotlib.pyplot as plt\n",
    "import seaborn as sns"
   ]
  },
  {
   "cell_type": "code",
   "execution_count": 2,
   "metadata": {},
   "outputs": [],
   "source": [
    "# create the session\n",
    "conf = SparkConf().set(\"spark.ui.port\", \"4050\")\n",
    "\n",
    "# create the context\n",
    "sc = pyspark.SparkContext(conf=conf)\n",
    "spark = pyspark_sql.SparkSession.builder.getOrCreate()"
   ]
  },
  {
   "cell_type": "code",
   "execution_count": 3,
   "metadata": {},
   "outputs": [],
   "source": [
    "# Load the dataset\n",
    "cmn_data = spark.read.csv(\"dataset/col_mat_nuw_output.csv\", header=None, inferSchema=True)"
   ]
  },
  {
   "cell_type": "code",
   "execution_count": 4,
   "metadata": {},
   "outputs": [
    {
     "name": "stdout",
     "output_type": "stream",
     "text": [
      "root\n",
      " |-- _c0: double (nullable = true)\n",
      " |-- _c1: string (nullable = true)\n",
      " |-- _c2: date (nullable = true)\n",
      " |-- _c3: date (nullable = true)\n",
      "\n"
     ]
    }
   ],
   "source": [
    "cmn_data.printSchema()"
   ]
  },
  {
   "cell_type": "code",
   "execution_count": 5,
   "metadata": {},
   "outputs": [
    {
     "name": "stdout",
     "output_type": "stream",
     "text": [
      "+--------------------+--------------+----------+----------+\n",
      "|                 _c0|           _c1|       _c2|       _c3|\n",
      "+--------------------+--------------+----------+----------+\n",
      "|1.969834395781014...|Colombo Proper|2019-01-01|2019-01-02|\n",
      "|2.625522171968594...|Colombo Proper|2019-01-02|2019-01-03|\n",
      "|9.852118897938794E-5|Colombo Proper|2019-01-03|2019-01-04|\n",
      "|2.099320518114242E-4|Colombo Proper|2019-01-04|2019-01-05|\n",
      "|1.785337298892930...|Colombo Proper|2019-01-05|2019-01-06|\n",
      "|1.082296700235670...|Colombo Proper|2019-01-06|2019-01-07|\n",
      "|3.926829280477309...|Colombo Proper|2019-01-07|2019-01-08|\n",
      "|9.153156350685351E-5|Colombo Proper|2019-01-08|2019-01-09|\n",
      "|1.205978992853015...|Colombo Proper|2019-01-09|2019-01-10|\n",
      "|1.297723562983258...|Colombo Proper|2019-01-10|2019-01-11|\n",
      "|2.239188166801278...|Colombo Proper|2019-01-11|2019-01-12|\n",
      "|1.569418094178759...|Colombo Proper|2019-01-12|2019-01-13|\n",
      "|                NULL|Colombo Proper|2019-01-13|2019-01-14|\n",
      "|1.336291906862603...|Colombo Proper|2019-01-14|2019-01-15|\n",
      "|6.374417842690063E-5|Colombo Proper|2019-01-15|2019-01-16|\n",
      "|1.181062250815020...|Colombo Proper|2019-01-16|2019-01-17|\n",
      "|2.472555222423037...|Colombo Proper|2019-01-17|2019-01-18|\n",
      "|3.667525352047757E-5|Colombo Proper|2019-01-18|2019-01-19|\n",
      "|4.057500868150313E-4|Colombo Proper|2019-01-19|2019-01-20|\n",
      "|1.687856216479722...|Colombo Proper|2019-01-20|2019-01-21|\n",
      "+--------------------+--------------+----------+----------+\n",
      "only showing top 20 rows\n",
      "\n"
     ]
    }
   ],
   "source": [
    "cmn_data.show()"
   ]
  },
  {
   "cell_type": "code",
   "execution_count": 6,
   "metadata": {},
   "outputs": [
    {
     "name": "stdout",
     "output_type": "stream",
     "text": [
      "+--------------------+--------------+------------+----------+\n",
      "|        HCHO Reading|      Location|Current Date| Next Date|\n",
      "+--------------------+--------------+------------+----------+\n",
      "|1.969834395781014...|Colombo Proper|  2019-01-01|2019-01-02|\n",
      "|2.625522171968594...|Colombo Proper|  2019-01-02|2019-01-03|\n",
      "|9.852118897938794E-5|Colombo Proper|  2019-01-03|2019-01-04|\n",
      "|2.099320518114242E-4|Colombo Proper|  2019-01-04|2019-01-05|\n",
      "|1.785337298892930...|Colombo Proper|  2019-01-05|2019-01-06|\n",
      "|1.082296700235670...|Colombo Proper|  2019-01-06|2019-01-07|\n",
      "|3.926829280477309...|Colombo Proper|  2019-01-07|2019-01-08|\n",
      "|9.153156350685351E-5|Colombo Proper|  2019-01-08|2019-01-09|\n",
      "|1.205978992853015...|Colombo Proper|  2019-01-09|2019-01-10|\n",
      "|1.297723562983258...|Colombo Proper|  2019-01-10|2019-01-11|\n",
      "|2.239188166801278...|Colombo Proper|  2019-01-11|2019-01-12|\n",
      "|1.569418094178759...|Colombo Proper|  2019-01-12|2019-01-13|\n",
      "|                NULL|Colombo Proper|  2019-01-13|2019-01-14|\n",
      "|1.336291906862603...|Colombo Proper|  2019-01-14|2019-01-15|\n",
      "|6.374417842690063E-5|Colombo Proper|  2019-01-15|2019-01-16|\n",
      "|1.181062250815020...|Colombo Proper|  2019-01-16|2019-01-17|\n",
      "|2.472555222423037...|Colombo Proper|  2019-01-17|2019-01-18|\n",
      "|3.667525352047757E-5|Colombo Proper|  2019-01-18|2019-01-19|\n",
      "|4.057500868150313E-4|Colombo Proper|  2019-01-19|2019-01-20|\n",
      "|1.687856216479722...|Colombo Proper|  2019-01-20|2019-01-21|\n",
      "+--------------------+--------------+------------+----------+\n",
      "only showing top 20 rows\n",
      "\n"
     ]
    }
   ],
   "source": [
    "# Define the new column names\n",
    "column_names = ['HCHO Reading', 'Location', 'Current Date', 'Next Date']\n",
    "\n",
    "# Rename the columns\n",
    "for i, new_name in enumerate(column_names):\n",
    "    cmn_data = cmn_data.withColumnRenamed(cmn_data.columns[i], new_name)\n",
    "\n",
    "cmn_data.show()"
   ]
  },
  {
   "cell_type": "code",
   "execution_count": 7,
   "metadata": {},
   "outputs": [
    {
     "name": "stdout",
     "output_type": "stream",
     "text": [
      "+-------+--------------------+\n",
      "|summary|        HCHO Reading|\n",
      "+-------+--------------------+\n",
      "|  count|                3059|\n",
      "|   mean|1.200429799620477...|\n",
      "| stddev|1.009218095609297E-4|\n",
      "|    min|-2.59296176552668...|\n",
      "|    max|8.997101837438971E-4|\n",
      "+-------+--------------------+\n",
      "\n"
     ]
    }
   ],
   "source": [
    "# Data description of HCHO Reading column\n",
    "cmn_data.describe('HCHO Reading').show()"
   ]
  },
  {
   "cell_type": "code",
   "execution_count": 8,
   "metadata": {},
   "outputs": [
    {
     "name": "stdout",
     "output_type": "stream",
     "text": [
      "Number of unique values in the 'Location' column: 3\n",
      "+-------------------+\n",
      "|           Location|\n",
      "+-------------------+\n",
      "|   Deniyaya, Matara|\n",
      "|     Colombo Proper|\n",
      "|Nuwara Eliya Proper|\n",
      "+-------------------+\n",
      "\n"
     ]
    }
   ],
   "source": [
    "unique_locations_count = cmn_data.select(\"Location\").distinct().count()\n",
    "print(f\"Number of unique values in the 'Location' column: {unique_locations_count}\")\n",
    "cmn_data.select(\"Location\").distinct().show()"
   ]
  },
  {
   "cell_type": "code",
   "execution_count": 9,
   "metadata": {},
   "outputs": [
    {
     "name": "stdout",
     "output_type": "stream",
     "text": [
      "+------------+--------+------------+---------+\n",
      "|HCHO Reading|Location|Current Date|Next Date|\n",
      "+------------+--------+------------+---------+\n",
      "|        2419|       0|           0|        0|\n",
      "+------------+--------+------------+---------+\n",
      "\n"
     ]
    }
   ],
   "source": [
    "# Checking the sum of the Null values\n",
    "cmn_data.select(*[sum_(col(c).isNull().cast(\"int\")).alias(c) for c in cmn_data.columns]).show()\n"
   ]
  },
  {
   "cell_type": "code",
   "execution_count": 10,
   "metadata": {},
   "outputs": [],
   "source": [
    "# # Define the window specification for backward fill\n",
    "# backward_windowSpec = Window.orderBy(\"Current Date\")\n",
    "\n",
    "# # Use lag to get the previous value in 'HCHO Reading'\n",
    "# previous_value = lag(\"HCHO Reading\", 1, None).over(backward_windowSpec)\n",
    "\n",
    "# # Replace nulls in 'HCHO Reading' with the previous non-null value\n",
    "# # We're using coalesce to keep the current value if it's not null or replace it with the previous value if it is null\n",
    "# cmn_data = cmn_data.withColumn(\"HCHO Reading\", coalesce(\"HCHO Reading\", previous_value))"
   ]
  },
  {
   "cell_type": "code",
   "execution_count": 11,
   "metadata": {},
   "outputs": [],
   "source": [
    "# # Define the window specification with the correct ordering column\n",
    "# windowSpec = Window.orderBy(\"Current Date\")  # Adjust if there's a more appropriate column\n",
    "\n",
    "# # Use lead to get the next value in 'HCHO Reading'\n",
    "# next_value = lead(\"HCHO Reading\", 1, None).over(windowSpec)\n",
    "\n",
    "# # Replace nulls in 'HCHO Reading' with the next non-null value\n",
    "# cmn_data = cmn_data.withColumn(\"HCHO Reading\", coalesce(\"HCHO Reading\", next_value))\n"
   ]
  },
  {
   "cell_type": "code",
   "execution_count": 12,
   "metadata": {},
   "outputs": [],
   "source": [
    "# Initialize a counter for null values\n",
    "null_count = cmn_data.filter(col(\"HCHO Reading\").isNull()).count()\n",
    "\n",
    "# Continue the process until there are no nulls left\n",
    "while null_count > 0:\n",
    "    # Define the window specifications\n",
    "    backward_windowSpec = Window.orderBy(\"Current Date\")\n",
    "    forward_windowSpec = Window.orderBy(\"Current Date\")\n",
    "    \n",
    "    # Use lag to carry the last observation forward\n",
    "    previous_value = lag(\"HCHO Reading\", 1).over(backward_windowSpec)\n",
    "    cmn_data = cmn_data.withColumn(\"HCHO Reading\", coalesce(\"HCHO Reading\", previous_value))\n",
    "    \n",
    "    # Use lead to carry the next observation backward\n",
    "    next_value = lead(\"HCHO Reading\", 1).over(forward_windowSpec)\n",
    "    cmn_data = cmn_data.withColumn(\"HCHO Reading\", coalesce(\"HCHO Reading\", next_value))\n",
    "    \n",
    "    # Update the null count\n",
    "    null_count = cmn_data.filter(col(\"HCHO Reading\").isNull()).count()"
   ]
  },
  {
   "cell_type": "code",
   "execution_count": 13,
   "metadata": {},
   "outputs": [
    {
     "name": "stdout",
     "output_type": "stream",
     "text": [
      "+------------+--------+------------+---------+\n",
      "|HCHO Reading|Location|Current Date|Next Date|\n",
      "+------------+--------+------------+---------+\n",
      "|           0|       0|           0|        0|\n",
      "+------------+--------+------------+---------+\n",
      "\n"
     ]
    }
   ],
   "source": [
    "cmn_data.select(*[sum_(col(c).isNull().cast(\"int\")).alias(c) for c in cmn_data.columns]).show()"
   ]
  },
  {
   "cell_type": "code",
   "execution_count": 15,
   "metadata": {},
   "outputs": [
    {
     "name": "stdout",
     "output_type": "stream",
     "text": [
      "The length of the dataset is: 5478\n"
     ]
    }
   ],
   "source": [
    "dataset_length = cmn_data.count()\n",
    "print(\"The length of the dataset is:\", dataset_length)"
   ]
  },
  {
   "cell_type": "code",
   "execution_count": 16,
   "metadata": {},
   "outputs": [],
   "source": [
    "cmn_data = cmn_data.dropDuplicates()"
   ]
  },
  {
   "cell_type": "code",
   "execution_count": 17,
   "metadata": {},
   "outputs": [
    {
     "name": "stdout",
     "output_type": "stream",
     "text": [
      "The length of the dataset is: 5478\n"
     ]
    }
   ],
   "source": [
    "dataset_length = cmn_data.count()\n",
    "print(\"The length of the dataset is:\", dataset_length)"
   ]
  },
  {
   "cell_type": "code",
   "execution_count": 18,
   "metadata": {},
   "outputs": [
    {
     "data": {
      "text/html": [
       "<div>\n",
       "<style scoped>\n",
       "    .dataframe tbody tr th:only-of-type {\n",
       "        vertical-align: middle;\n",
       "    }\n",
       "\n",
       "    .dataframe tbody tr th {\n",
       "        vertical-align: top;\n",
       "    }\n",
       "\n",
       "    .dataframe thead th {\n",
       "        text-align: right;\n",
       "    }\n",
       "</style>\n",
       "<table border=\"1\" class=\"dataframe\">\n",
       "  <thead>\n",
       "    <tr style=\"text-align: right;\">\n",
       "      <th></th>\n",
       "      <th>HCHO Reading</th>\n",
       "      <th>Location</th>\n",
       "      <th>Current Date</th>\n",
       "      <th>Next Date</th>\n",
       "    </tr>\n",
       "  </thead>\n",
       "  <tbody>\n",
       "    <tr>\n",
       "      <th>0</th>\n",
       "      <td>0.000197</td>\n",
       "      <td>Colombo Proper</td>\n",
       "      <td>2019-01-01</td>\n",
       "      <td>2019-01-02</td>\n",
       "    </tr>\n",
       "    <tr>\n",
       "      <th>1</th>\n",
       "      <td>0.000197</td>\n",
       "      <td>Deniyaya, Matara</td>\n",
       "      <td>2019-01-01</td>\n",
       "      <td>2019-01-02</td>\n",
       "    </tr>\n",
       "    <tr>\n",
       "      <th>2</th>\n",
       "      <td>0.000263</td>\n",
       "      <td>Nuwara Eliya Proper</td>\n",
       "      <td>2019-01-01</td>\n",
       "      <td>2019-01-02</td>\n",
       "    </tr>\n",
       "    <tr>\n",
       "      <th>3</th>\n",
       "      <td>0.000263</td>\n",
       "      <td>Colombo Proper</td>\n",
       "      <td>2019-01-02</td>\n",
       "      <td>2019-01-03</td>\n",
       "    </tr>\n",
       "    <tr>\n",
       "      <th>4</th>\n",
       "      <td>0.000006</td>\n",
       "      <td>Deniyaya, Matara</td>\n",
       "      <td>2019-01-02</td>\n",
       "      <td>2019-01-03</td>\n",
       "    </tr>\n",
       "    <tr>\n",
       "      <th>...</th>\n",
       "      <td>...</td>\n",
       "      <td>...</td>\n",
       "      <td>...</td>\n",
       "      <td>...</td>\n",
       "    </tr>\n",
       "    <tr>\n",
       "      <th>5473</th>\n",
       "      <td>0.000080</td>\n",
       "      <td>Colombo Proper</td>\n",
       "      <td>2023-12-31</td>\n",
       "      <td>2024-01-01</td>\n",
       "    </tr>\n",
       "    <tr>\n",
       "      <th>5474</th>\n",
       "      <td>0.000080</td>\n",
       "      <td>Deniyaya, Matara</td>\n",
       "      <td>2023-12-31</td>\n",
       "      <td>2024-01-01</td>\n",
       "    </tr>\n",
       "    <tr>\n",
       "      <th>5475</th>\n",
       "      <td>0.000080</td>\n",
       "      <td>Nuwara Eliya Proper</td>\n",
       "      <td>2023-12-31</td>\n",
       "      <td>2024-01-01</td>\n",
       "    </tr>\n",
       "    <tr>\n",
       "      <th>5476</th>\n",
       "      <td>0.000254</td>\n",
       "      <td>Colombo Proper</td>\n",
       "      <td>2022-03-07</td>\n",
       "      <td>2022-03-08</td>\n",
       "    </tr>\n",
       "    <tr>\n",
       "      <th>5477</th>\n",
       "      <td>0.000029</td>\n",
       "      <td>Deniyaya, Matara</td>\n",
       "      <td>2022-07-10</td>\n",
       "      <td>2022-07-11</td>\n",
       "    </tr>\n",
       "  </tbody>\n",
       "</table>\n",
       "<p>5478 rows × 4 columns</p>\n",
       "</div>"
      ],
      "text/plain": [
       "      HCHO Reading             Location Current Date   Next Date\n",
       "0         0.000197       Colombo Proper   2019-01-01  2019-01-02\n",
       "1         0.000197     Deniyaya, Matara   2019-01-01  2019-01-02\n",
       "2         0.000263  Nuwara Eliya Proper   2019-01-01  2019-01-02\n",
       "3         0.000263       Colombo Proper   2019-01-02  2019-01-03\n",
       "4         0.000006     Deniyaya, Matara   2019-01-02  2019-01-03\n",
       "...            ...                  ...          ...         ...\n",
       "5473      0.000080       Colombo Proper   2023-12-31  2024-01-01\n",
       "5474      0.000080     Deniyaya, Matara   2023-12-31  2024-01-01\n",
       "5475      0.000080  Nuwara Eliya Proper   2023-12-31  2024-01-01\n",
       "5476      0.000254       Colombo Proper   2022-03-07  2022-03-08\n",
       "5477      0.000029     Deniyaya, Matara   2022-07-10  2022-07-11\n",
       "\n",
       "[5478 rows x 4 columns]"
      ]
     },
     "execution_count": 18,
     "metadata": {},
     "output_type": "execute_result"
    }
   ],
   "source": [
    "# Convert the PySpark DataFrame to a Pandas DataFrame\n",
    "cmn_data = cmn_data.toPandas()\n",
    "cmn_data"
   ]
  },
  {
   "cell_type": "code",
   "execution_count": 19,
   "metadata": {},
   "outputs": [
    {
     "data": {
      "image/png": "[encoded data removed]",
      "text/plain": [
       "<Figure size 1000x600 with 1 Axes>"
      ]
     },
     "metadata": {},
     "output_type": "display_data"
    }
   ],
   "source": [
    "# Plot the distribution of the \"HCHO Reading\" column\n",
    "plt.figure(figsize=(10, 6))\n",
    "sns.histplot(cmn_data[\"HCHO Reading\"], kde=True, color='skyblue')\n",
    "plt.title('Distribution of HCHO Reading')\n",
    "plt.xlabel('HCHO Reading')\n",
    "plt.ylabel('Frequency')\n",
    "plt.show()"
   ]
  },
  {
   "cell_type": "code",
   "execution_count": 20,
   "metadata": {},
   "outputs": [],
   "source": [
    "cmn_data.to_csv(\"preprocessed_dataset/col_mat_nuw_pp.csv\", index=False)"
   ]
  }
 ],
 "metadata": {
  "kernelspec": {
   "display_name": "Python 3",
   "language": "python",
   "name": "python3"
  },
  "language_info": {
   "codemirror_mode": {
    "name": "ipython",
    "version": 3
   },
   "file_extension": ".py",
   "mimetype": "text/x-python",
   "name": "python",
   "nbconvert_exporter": "python",
   "pygments_lexer": "ipython3",
   "version": "3.10.0"
  }
 },
 "nbformat": 4,
 "nbformat_minor": 2
}
